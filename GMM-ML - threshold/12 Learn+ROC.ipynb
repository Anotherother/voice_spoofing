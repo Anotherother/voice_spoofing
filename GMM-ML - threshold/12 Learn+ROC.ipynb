{
 "cells": [
  {
   "cell_type": "code",
   "execution_count": 2,
   "metadata": {
    "collapsed": false
   },
   "outputs": [],
   "source": [
    "import numpy as np\n",
    "from sklearn.mixture import GMM\n",
    "from sklearn.cross_validation import StratifiedKFold\n",
    "from sklearn.metrics import roc_curve, auc\n",
    "import matplotlib.pyplot as plt\n",
    "import pandas as pd\n",
    "import pylab as pl\n",
    "from sklearn.metrics import confusion_matrix\n",
    "\n",
    "%matplotlib inline\n",
    "\n",
    "from sklearn.externals import joblib"
   ]
  },
  {
   "cell_type": "code",
   "execution_count": 3,
   "metadata": {
    "collapsed": false
   },
   "outputs": [],
   "source": [
    "mfcc_original_train = np.loadtxt('./featurevec/mfcc_train_human.txt')\n",
    "\n",
    "mfcc_spoof_train = np.loadtxt('./featurevec/mfcc_spoof_train.txt')\n",
    "\n",
    "mfcc_original_develop = np.loadtxt('./featurevec/mfcc_dev_human.txt')\n",
    "\n",
    "mfcc_spoof_develop = np.loadtxt('./featurevec/mfcc_spoof_dev.txt')\n",
    "\n",
    "mfcc_original_test = np.loadtxt('./featurevec/mfcc_eva_human.txt')\n",
    "\n",
    "mfcc_spoof_test = np.loadtxt('./featurevec/mfcc_spoof_eva.txt')"
   ]
  },
  {
   "cell_type": "code",
   "execution_count": 4,
   "metadata": {
    "collapsed": true
   },
   "outputs": [],
   "source": [
    "X_train = np.concatenate([mfcc_original_train, mfcc_spoof_train]) \n",
    "y_train = np.concatenate([np.zeros((mfcc_original_train.shape[0])), np.ones((mfcc_spoof_train.shape[0]))]).astype('int')\n",
    "\n",
    "X_develop = np.concatenate([mfcc_original_develop, mfcc_spoof_develop]) \n",
    "y_develop = np.concatenate([np.zeros((mfcc_original_develop.shape[0])), np.ones((mfcc_spoof_develop.shape[0]))]).astype('int')\n",
    "\n",
    "X_test = np.concatenate([mfcc_original_test, mfcc_spoof_test]) \n",
    "y_test = np.concatenate([np.zeros((mfcc_original_test.shape[0])), np.ones((mfcc_spoof_test.shape[0]))]).astype('int')"
   ]
  },
  {
   "cell_type": "code",
   "execution_count": 5,
   "metadata": {
    "collapsed": true
   },
   "outputs": [],
   "source": [
    "def computeUBM(ubm_model, data):\n",
    "    ###########################################\n",
    "    # ubm_model - gmm-represent distribution of our model\n",
    "    # data - samples, which will correct ubm-model\n",
    "    ###############################################\n",
    "\n",
    "    xdim = data.shape[1]\n",
    "    M = ubm_model.n_components\n",
    "\n",
    "    ###############################################################\n",
    "    #    ubm_means: means of the ubm <number array>               #\n",
    "    #    ubm_covars: covariances of the ubm <number array>        #\n",
    "    #    ubm_weights: weights of the ubm <number array>           #\n",
    "    #    new_means: means adapted from the ubm <number array>     #\n",
    "    #    new_weights: weights adapted from the ubm <number array> #\n",
    "    ###############################################################\n",
    "\n",
    "    # Copy parameters GMM-model\n",
    "    ubm_weights = ubm_model.weights_\n",
    "    ubm_means = ubm_model.means_\n",
    "    ubm_covars = ubm_model.covars_\n",
    "\n",
    "    ###################################################################\n",
    "    # for X = {x_1, ..., x_T}                                         #\n",
    "    # P(i|x_t) = w_i * p_i(x_t) / sum_j=1_M(w_j * P_j(x_t))           #\n",
    "    ###################################################################\n",
    "\n",
    "    posterior_prob = ubm_model.predict_proba(data)\n",
    "    pr_i_xt = (ubm_weights * posterior_prob) / np.asmatrix(np.sum(ubm_weights \\\n",
    "                                                                  * posterior_prob, axis=1)).T\n",
    "\n",
    "    n_i = np.asarray(np.sum(pr_i_xt, axis=0)).flatten()  # [M, ]\n",
    "\n",
    "    # Then we can compute E(x) and E(x2) and calculate new parameters of\n",
    "    # our model\n",
    "\n",
    "    E_x = np.asarray([(np.asarray(pr_i_xt[:, i]) * data).sum(axis=0) / n_i[i] if not n_i[i] == 0. else np.zeros(xdim) for i in range(M)])  # [M x xdim]\n",
    "    E_x2 = np.asarray([(np.asarray(pr_i_xt[:, i]) * (data ** 2)).sum(axis=0) / n_i[i]  if not n_i[i] == 0. else np.zeros(xdim)for i in range(M)])  # [M x xdim]\n",
    "\n",
    "    ################################################################\n",
    "    #    T: scaling factor, number of samples                      #\n",
    "    #    relevance_factor: factor for scaling the adapted means    #\n",
    "    #    scaleparam - scale parameter for weights matrix estimation#\n",
    "    ################################################################\n",
    "\n",
    "    T = data.shape[0]\n",
    "    relevance_factor = 16\n",
    "    scaleparam = 1\n",
    "\n",
    "    ################################################################\n",
    "    # compute alpha_i: data-depentend apaptation coefficient       #\n",
    "    # alpha_w = alpha_m = alpha_v                                  #\n",
    "    # alpha_i = n_i/ (n_i + relevance factor)                      #\n",
    "    ################################################################\n",
    "\n",
    "    alpha_i = n_i / (n_i + relevance_factor)\n",
    "\n",
    "    ###############################\n",
    "    # Parqameter`s adaptation\n",
    "    ##############################\n",
    "    new_weights = (alpha_i * n_i / T + (1.0 - alpha_i) * ubm_weights) * scaleparam\n",
    "\n",
    "    alpha_i = np.asarray(np.asmatrix(alpha_i).T)\n",
    "    new_means = (alpha_i * E_x + (1. - alpha_i) * ubm_means)\n",
    "    new_covars = alpha_i * E_x2 + (1. - alpha_i) * (ubm_covars + (ubm_means ** 2)) - (new_means ** 2)\n",
    "\n",
    "    ubm_model.means_ = new_means\n",
    "    ubm_model.weights_ = new_weights\n",
    "    ubm_model.covars_ = new_covars\n",
    "\n",
    "    return ubm_model"
   ]
  },
  {
   "cell_type": "markdown",
   "metadata": {},
   "source": [
    "# train GMM-ML"
   ]
  },
  {
   "cell_type": "code",
   "execution_count": null,
   "metadata": {
    "collapsed": false
   },
   "outputs": [],
   "source": [
    "g = np.array([2,4,8,16,32,64,128,256,512,1024])\n",
    "\n",
    "for n_g in [1024]:\n",
    "    gmm_1 =  GMM(n_components = n_g, covariance_type='diag',init_params='wmc', n_iter=20)\n",
    "    gmm_1.fit(mfcc_original_train)\n",
    "\n",
    "    gmm_2 =  GMM(n_components = n_g, covariance_type='diag',init_params='wmc', n_iter=20)\n",
    "    gmm_2.fit(mfcc_spoof_train)\n",
    "\n",
    "    filename1 = './mixtureModels/gmm_1_'+str(n_g)+ 'gaussian.pkl'\n",
    "    joblib.dump(gmm_1, filename1) \n",
    "    \n",
    "    filename2 = './mixtureModels/gmm_2_'+str(n_g)+ 'gaussian.pkl'\n",
    "    joblib.dump(gmm_2, filename2) "
   ]
  },
  {
   "cell_type": "code",
   "execution_count": 5,
   "metadata": {
    "collapsed": false
   },
   "outputs": [],
   "source": [
    "m1 = joblib.load('./mixtureModels/gmm_1_1024gaussian.pkl')\n",
    "m2 = joblib.load('./mixtureModels/gmm_2_1024gaussian.pkl')\n",
    "\n",
    "scores_dev  = np.array(m2.score(X_develop) - m1.score(X_develop))"
   ]
  },
  {
   "cell_type": "code",
   "execution_count": 29,
   "metadata": {
    "collapsed": false
   },
   "outputs": [
    {
     "name": "stdout",
     "output_type": "stream",
     "text": [
      "learn train, TH = 0, predict develop\n",
      "\n",
      "accuracy on develop set 77.3645357116\n",
      "\n",
      "CM:\n",
      "[[ 1691  1806]\n",
      " [10275 39600]]\n"
     ]
    }
   ],
   "source": [
    "label_th0_dev = (scores_dev > 0).astype('int')\n",
    "    \n",
    "accuracy_th0_dev = np.mean(label_th0_dev == y_develop) * 100\n",
    "\n",
    "print 'learn train, TH = 0, predict develop\\n'\n",
    "print 'accuracy on develop set', accuracy_th0_dev\n",
    "\n",
    "##################\n",
    "#    TN     FP   #\n",
    "#    FN     TP   #\n",
    "##################\n",
    "print '\\nCM:\\n', confusion_matrix(y_develop, label_th0_dev )"
   ]
  },
  {
   "cell_type": "code",
   "execution_count": 30,
   "metadata": {
    "collapsed": false
   },
   "outputs": [
    {
     "name": "stdout",
     "output_type": "stream",
     "text": [
      "learn train, TH = 0, predict eva\n",
      "\n",
      "accuracy  on test 73.5067527042\n",
      "\n",
      "CM:\n",
      "[[  4530   4874]\n",
      " [ 46365 137635]]\n"
     ]
    }
   ],
   "source": [
    "scores_test  = np.array(m2.score(X_test) - m1.score(X_test))\n",
    "label_test_gmm= (scores_test > 0).astype('int')\n",
    "\n",
    "acc_test_gmm = np.mean(label_test_gmm == y_test) * 100\n",
    "cm_GMM_eva =  confusion_matrix(y_test,label_test_gmm )\n",
    "\n",
    "print 'learn train, TH = 0, predict eva\\n'\n",
    "print 'accuracy  on test', acc_test_gmm\n",
    "print '\\nCM:\\n', cm_GMM_eva"
   ]
  },
  {
   "cell_type": "code",
   "execution_count": 32,
   "metadata": {
    "collapsed": false
   },
   "outputs": [
    {
     "name": "stdout",
     "output_type": "stream",
     "text": [
      "TN = 0.023422473165, FP = 0.0252011333788, FN = 0.239731339579\n"
     ]
    }
   ],
   "source": [
    "s = np.sum(cm_GMM_eva)\n",
    "\n",
    "print \"TN = {}, FP = {}, FN = {}\".format(cm_GMM_eva[0][0].astype('float')/s, cm_GMM_eva[0][1].astype('float')/s,cm_GMM_eva[1][0].astype('float')/s)"
   ]
  },
  {
   "cell_type": "markdown",
   "metadata": {},
   "source": [
    "# find optimal threshold\n",
    "\n"
   ]
  },
  {
   "cell_type": "code",
   "execution_count": 6,
   "metadata": {
    "collapsed": false
   },
   "outputs": [],
   "source": [
    "def Find_Optimal_Threshold(target, scores):\n",
    "\n",
    "    fpr, tpr, threshold = roc_curve(target, scores)\n",
    "    \n",
    "    # Найдем оптимальный порог для принятия решений\n",
    "    \n",
    "    i = np.arange(len(tpr)) \n",
    "    roc = pd.DataFrame({'tf' : pd.Series(tpr-(1-fpr), index=i), 'threshold' : pd.Series(threshold, index=i)})\n",
    "    roc_t = roc.ix[(roc.tf-0).abs().argsort()[:1]]\n",
    "    print 'Threshold:'\n",
    "    print roc_t\n",
    "    return np.array(roc_t['threshold'])\n"
   ]
  },
  {
   "cell_type": "code",
   "execution_count": 17,
   "metadata": {
    "collapsed": false
   },
   "outputs": [
    {
     "name": "stdout",
     "output_type": "stream",
     "text": [
      "            tf  threshold\n",
      "5400  0.000003    1.75438\n",
      "[ 1.75438005]\n"
     ]
    }
   ],
   "source": [
    "# Compute optimal treshold and calc accuracy (development set)\n",
    "threshold_dev = Find_Optimal_Threshold(y_develop, scores_dev)\n",
    "print threshold_dev"
   ]
  },
  {
   "cell_type": "markdown",
   "metadata": {},
   "source": [
    "делаем предсказания с учетов нового порога для модели GMM-ML на development set"
   ]
  },
  {
   "cell_type": "code",
   "execution_count": 33,
   "metadata": {
    "collapsed": false
   },
   "outputs": [
    {
     "name": "stdout",
     "output_type": "stream",
     "text": [
      "learn train, TH = 0, predict develop\n",
      "\n",
      "accuracy - prediction on development set 67.4885707862\n",
      "\n",
      "CM:\n",
      "[[ 2361  1136]\n",
      " [16216 33659]]\n"
     ]
    }
   ],
   "source": [
    "labels_dev = (scores_dev > threshold_dev).astype('int')   \n",
    "accuracy_dev_newTH = np.mean(labels_dev == y_develop) * 100\n",
    "cm_GMM_dev_TH_NEW = confusion_matrix(y_develop, labels_dev)\n",
    "\n",
    "print 'learn train, TH = 0, predict develop\\n'\n",
    "print 'accuracy - prediction on development set', accuracy_dev_newTH\n",
    "\n",
    "print '\\nCM:\\n', cm_GMM_dev_TH_NEW\n",
    "\n"
   ]
  },
  {
   "cell_type": "markdown",
   "metadata": {},
   "source": [
    "Предсказания на тестовом наборе данных (evaluation) с учетом порога"
   ]
  },
  {
   "cell_type": "code",
   "execution_count": 34,
   "metadata": {
    "collapsed": false
   },
   "outputs": [
    {
     "name": "stdout",
     "output_type": "stream",
     "text": [
      "accuracy - prediction on evaluation set 61.7841409692\n",
      "\n",
      "CM:\n",
      "[[  6736   2668]\n",
      " [ 71243 112757]]\n"
     ]
    }
   ],
   "source": [
    "labels_test = (scores_test > threshold_dev).astype('int')\n",
    "cm_GMM_eva_TH_NEW = confusion_matrix(y_test, labels_test)\n",
    "\n",
    "accuracy_test = np.mean(labels_test == y_test) * 100\n",
    "print 'accuracy - prediction on evaluation set', accuracy_test\n",
    "print '\\nCM:\\n', cm_GMM_eva_TH_NEW"
   ]
  },
  {
   "cell_type": "markdown",
   "metadata": {},
   "source": [
    "# ROC"
   ]
  },
  {
   "cell_type": "code",
   "execution_count": 7,
   "metadata": {
    "collapsed": false
   },
   "outputs": [],
   "source": [
    "def plotROC(true, predicted, ttl = None):\n",
    "    fpr, tpr, threshold = roc_curve(true, predicted, pos_label = 1)\n",
    "    roc_auc = auc(fpr, tpr)\n",
    "\n",
    "    \n",
    "    plt.figure()\n",
    "    lw = 2\n",
    "    plt.plot(fpr, tpr, color='darkorange',\n",
    "             lw=lw, label='ROC curve (area = %0.2f)' % roc_auc)\n",
    "    plt.plot([0, 1], [0, 1], color='navy', lw=lw, linestyle='--')\n",
    "    plt.xlim([0.0, 1.0])\n",
    "    plt.ylim([0.0, 1.05])\n",
    "    plt.xlabel('False Positive Rate')\n",
    "    plt.ylabel('True Positive Rate')\n",
    "    plt.title(ttl)\n",
    "    plt.legend(loc=\"lower right\")\n",
    "    plt.show()"
   ]
  },
  {
   "cell_type": "code",
   "execution_count": 36,
   "metadata": {
    "collapsed": false
   },
   "outputs": [
    {
     "data": {
      "image/png": "[encoded data removed]",
      "text/plain": [
       "<matplotlib.figure.Figure at 0x7ee8c18>"
      ]
     },
     "metadata": {},
     "output_type": "display_data"
    },
    {
     "data": {
      "image/png": "[encoded data removed]",
      "text/plain": [
       "<matplotlib.figure.Figure at 0x1fc9a940>"
      ]
     },
     "metadata": {},
     "output_type": "display_data"
    }
   ],
   "source": [
    "plotROC(y_develop, scores_dev, \"scores_dev\")\n",
    "\n",
    "plotROC(y_test, scores_test, \"scores_test\")"
   ]
  },
  {
   "cell_type": "markdown",
   "metadata": {},
   "source": [
    "# make prediction with new threshold\n"
   ]
  },
  {
   "cell_type": "markdown",
   "metadata": {},
   "source": [
    "#  train ubm_models"
   ]
  },
  {
   "cell_type": "code",
   "execution_count": 13,
   "metadata": {
    "collapsed": false
   },
   "outputs": [],
   "source": [
    "gaussians = np.array([2,4,8,16,32,64,128,256,512,1024])\n",
    "\n",
    "for n_g in [1024]:\n",
    "    ubm =  GMM(n_components = n_g, covariance_type='diag',init_params='wmc', n_iter=20)\n",
    "    ubm.fit(X_train, y_train)\n",
    "    filename = './mixtureModels/ubm_'+str(n_g)+ 'gaussian.pkl'\n",
    "    joblib.dump(ubm, filename) "
   ]
  },
  {
   "cell_type": "markdown",
   "metadata": {},
   "source": [
    "## predictions for UBM"
   ]
  },
  {
   "cell_type": "code",
   "execution_count": null,
   "metadata": {
    "collapsed": false
   },
   "outputs": [],
   "source": [
    "ubm_1 = joblib.load('./mixtureModels/ubm_1024gaussian.pkl')\n",
    "ubm_2 = joblib.load('./mixtureModels/ubm_1024gaussian.pkl')"
   ]
  },
  {
   "cell_type": "code",
   "execution_count": null,
   "metadata": {
    "collapsed": false,
    "scrolled": false
   },
   "outputs": [],
   "source": [
    "num_iter = 15\n",
    "for i in range(num_iter):\n",
    "    \n",
    "    if i == 0:\n",
    "        ubm_1 = joblib.load('./mixtureModels/ubm_1024gaussian.pkl')\n",
    "        ubm_2 = joblib.load('./mixtureModels/ubm_1024gaussian.pkl')\n",
    "    else:\n",
    "        ubm_1 = joblib.load('./mixtureModels/ubm/ubm_' + str(i)+ '_1.pkl')\n",
    "        ubm_2 = joblib.load('./mixtureModels/ubm/ubm_' + str(i)+ '_2.pkl')\n",
    "    ubm_1_adapt = computeUBM(ubm_1, mfcc_original_develop)\n",
    "    ubm_2_adapt = computeUBM(ubm_2, mfcc_spoof_develop)\n",
    "    \n",
    "    ubm_scores_dev = np.array(ubm_2_adapt.score(X_develop)-  ubm_1_adapt.score(X_develop))\n",
    "    ubm_labels_dev_th0 = (ubm_scores_dev > 0)\n",
    "    \n",
    "    ubm_accuracy_dev_th0 = np.mean(ubm_labels_dev_th0 == y_develop) * 100\n",
    "    print 'accuracy - prediction on development set. Th = 0: ', ubm_accuracy_dev_th0    \n",
    "\n",
    "    ubm_scores_eva = np.array(ubm_2_adapt.score(X_test)-  ubm_1_adapt.score(X_test))\n",
    "    ubm_labels_eva_th0 = (ubm_scores_eva > 0)\n",
    "    ubm_accuracy_eva_th0 = np.mean(ubm_labels_eva_th0 == y_test) * 100\n",
    "    print 'accuracy - prediction on test set. Th = 0: ', ubm_accuracy_eva_th0 \n",
    "    CM_eva_th0= confusion_matrix(y_test, ubm_labels_eva_th0)\n",
    "    print CM_eva_th0\n",
    "    print '=================================================\\n'\n",
    "    \n",
    "    ############################ THRESHOLD ###########################\n",
    "    ubm_threshold = Find_Optimal_Threshold(y_develop, ubm_scores_dev)\n",
    "    \n",
    "    ubm_labels_eva_optTH = (ubm_scores_eva > ubm_threshold)\n",
    "    ubm_accuracy_eva = np.mean(ubm_labels_eva_optTH == y_test) * 100\n",
    "    print 'accuracy - prediction on development set, Th = Optimal', ubm_accuracy_eva     \n",
    "    CM_eva_thOpt =  confusion_matrix(y_test, ubm_labels_eva_optTH)    \n",
    "    print CM_eva_thOpt\n",
    "    title = \"scores_eva_ ubm. iter = \", i\n",
    "    plotROC(y_test, ubm_scores_eva, title)\n",
    "    \n",
    "    \n",
    "    joblib.dump(ubm_1_adapt, './mixtureModels/ubm/ubm_' + str(i+1)+ '_1.pkl') \n",
    "    joblib.dump(ubm_2_adapt, './mixtureModels/ubm/ubm_' + str(i+1)+ '_2.pkl')   \n",
    "    print '=================================== NEW ITER========'"
   ]
  }
 ],
 "metadata": {
  "anaconda-cloud": {},
  "kernelspec": {
   "display_name": "Python 2",
   "language": "python",
   "name": "python2"
  },
  "language_info": {
   "codemirror_mode": {
    "name": "ipython",
    "version": 2
   },
   "file_extension": ".py",
   "mimetype": "text/x-python",
   "name": "python",
   "nbconvert_exporter": "python",
   "pygments_lexer": "ipython2",
   "version": "2.7.13"
  }
 },
 "nbformat": 4,
 "nbformat_minor": 0
}
