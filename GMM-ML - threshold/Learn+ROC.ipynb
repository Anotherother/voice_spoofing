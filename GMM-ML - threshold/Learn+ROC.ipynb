{
 "cells": [
  {
   "cell_type": "code",
   "execution_count": 9,
   "metadata": {
    "collapsed": true
   },
   "outputs": [],
   "source": [
    "import numpy as np\n",
    "from sklearn.mixture import GMM\n",
    "from sklearn.cross_validation import StratifiedKFold\n",
    "from sklearn.metrics import roc_curve, auc\n",
    "import matplotlib.pyplot as plt\n",
    "import pandas as pd\n",
    "import pylab as pl\n",
    "\n",
    "%matplotlib inline\n",
    "\n",
    "from sklearn.externals import joblib"
   ]
  },
  {
   "cell_type": "code",
   "execution_count": 2,
   "metadata": {
    "collapsed": true
   },
   "outputs": [],
   "source": [
    "mfcc_original_train = np.loadtxt('./featurevec/mfcc_train_human.txt')\n",
    "\n",
    "mfcc_spoof_train = np.loadtxt('./featurevec/mfcc_spoof_train.txt')\n",
    "\n",
    "mfcc_original_develop = np.loadtxt('./featurevec/mfcc_dev_human.txt')\n",
    "\n",
    "mfcc_spoof_develop = np.loadtxt('./featurevec/mfcc_spoof_dev.txt')\n",
    "\n",
    "mfcc_original_test = np.loadtxt('./featurevec/mfcc_eva_human.txt')\n",
    "\n",
    "mfcc_spoof_test = np.loadtxt('./featurevec/mfcc_spoof_eva.txt')"
   ]
  },
  {
   "cell_type": "code",
   "execution_count": 3,
   "metadata": {
    "collapsed": true
   },
   "outputs": [],
   "source": [
    "X_train = np.concatenate([mfcc_original_train, mfcc_spoof_train]) \n",
    "y_train = np.concatenate([np.zeros((mfcc_original_train.shape[0])), np.ones((mfcc_spoof_train.shape[0]))]).astype('int')\n",
    "\n",
    "X_develop = np.concatenate([mfcc_original_develop, mfcc_spoof_develop]) \n",
    "y_develop = np.concatenate([np.zeros((mfcc_original_develop.shape[0])), np.ones((mfcc_spoof_develop.shape[0]))]).astype('int')\n",
    "\n",
    "X_test = np.concatenate([mfcc_original_test, mfcc_spoof_test]) \n",
    "y_test = np.concatenate([np.zeros((mfcc_original_test.shape[0])), np.ones((mfcc_spoof_test.shape[0]))]).astype('int')"
   ]
  },
  {
   "cell_type": "code",
   "execution_count": 4,
   "metadata": {
    "collapsed": true
   },
   "outputs": [],
   "source": [
    "def computeUBM(ubm_model, data):\n",
    "    ###########################################\n",
    "    # ubm_model - gmm-represent distribution of our model\n",
    "    # data - samples, which will correct ubm-model\n",
    "    ###############################################\n",
    "\n",
    "    xdim = data.shape[1]\n",
    "    M = ubm_model.n_components\n",
    "\n",
    "    ###############################################################\n",
    "    #    ubm_means: means of the ubm <number array>               #\n",
    "    #    ubm_covars: covariances of the ubm <number array>        #\n",
    "    #    ubm_weights: weights of the ubm <number array>           #\n",
    "    #    new_means: means adapted from the ubm <number array>     #\n",
    "    #    new_weights: weights adapted from the ubm <number array> #\n",
    "    ###############################################################\n",
    "\n",
    "    # Copy parameters GMM-model\n",
    "    ubm_weights = ubm_model.weights_\n",
    "    ubm_means = ubm_model.means_\n",
    "    ubm_covars = ubm_model.covars_\n",
    "\n",
    "    ###################################################################\n",
    "    # for X = {x_1, ..., x_T}                                         #\n",
    "    # P(i|x_t) = w_i * p_i(x_t) / sum_j=1_M(w_j * P_j(x_t))           #\n",
    "    ###################################################################\n",
    "\n",
    "    posterior_prob = ubm_model.predict_proba(data)\n",
    "    pr_i_xt = (ubm_weights * posterior_prob) / np.asmatrix(np.sum(ubm_weights \\\n",
    "                                                                  * posterior_prob, axis=1)).T\n",
    "\n",
    "    n_i = np.asarray(np.sum(pr_i_xt, axis=0)).flatten()  # [M, ]\n",
    "\n",
    "    # Then we can compute E(x) and E(x2) and calculate new parameters of\n",
    "    # our model\n",
    "\n",
    "    E_x = np.asarray([(np.asarray(pr_i_xt[:, i]) * data).sum(axis=0) / n_i[i] if not n_i[i] == 0. else np.zeros(xdim) for i in range(M)])  # [M x xdim]\n",
    "    E_x2 = np.asarray([(np.asarray(pr_i_xt[:, i]) * (data ** 2)).sum(axis=0) / n_i[i]  if not n_i[i] == 0. else np.zeros(xdim)for i in range(M)])  # [M x xdim]\n",
    "\n",
    "    ################################################################\n",
    "    #    T: scaling factor, number of samples                      #\n",
    "    #    relevance_factor: factor for scaling the adapted means    #\n",
    "    #    scaleparam - scale parameter for weights matrix estimation#\n",
    "    ################################################################\n",
    "\n",
    "    T = data.shape[0]\n",
    "    relevance_factor = 16\n",
    "    scaleparam = 1\n",
    "\n",
    "    ################################################################\n",
    "    # compute alpha_i: data-depentend apaptation coefficient       #\n",
    "    # alpha_w = alpha_m = alpha_v                                  #\n",
    "    # alpha_i = n_i/ (n_i + relevance factor)                      #\n",
    "    ################################################################\n",
    "\n",
    "    alpha_i = n_i / (n_i + relevance_factor)\n",
    "\n",
    "    ###############################\n",
    "    # Parqameter`s adaptation\n",
    "    ##############################\n",
    "    new_weights = (alpha_i * n_i / T + (1.0 - alpha_i) * ubm_weights) * scaleparam\n",
    "\n",
    "    alpha_i = np.asarray(np.asmatrix(alpha_i).T)\n",
    "    new_means = (alpha_i * E_x + (1. - alpha_i) * ubm_means)\n",
    "    new_covars = alpha_i * E_x2 + (1. - alpha_i) * (ubm_covars + (ubm_means ** 2)) - (new_means ** 2)\n",
    "\n",
    "    ubm_model.means_ = new_means\n",
    "    ubm_model.weights_ = new_weights\n",
    "    ubm_model.covars_ = new_covars\n",
    "\n",
    "    return ubm_model"
   ]
  },
  {
   "cell_type": "markdown",
   "metadata": {},
   "source": [
    "# train GMM-ML"
   ]
  },
  {
   "cell_type": "code",
   "execution_count": 14,
   "metadata": {
    "collapsed": true
   },
   "outputs": [],
   "source": [
    "g = np.array([2,4,8,16,32,64,128,256,512,1024])\n",
    "\n",
    "for n_g in gaussians:\n",
    "    gmm_1 =  GMM(n_components = n_g, covariance_type='diag',init_params='wmc', n_iter=20)\n",
    "    gmm_1.fit(mfcc_original_train)\n",
    "\n",
    "    gmm_2 =  GMM(n_components = n_g, covariance_type='diag',init_params='wmc', n_iter=20)\n",
    "    gmm_2.fit(mfcc_spoof_train)\n",
    "\n",
    "    filename1 = './mixtureModels/gmm_1_'+str(n_g)+ 'gaussian.pkl'\n",
    "    joblib.dump(gmm_1, filename1) \n",
    "    \n",
    "    filename2 = './mixtureModels/gmm_2_'+str(n_g)+ 'gaussian.pkl'\n",
    "    joblib.dump(gmm_2, filename2) "
   ]
  },
  {
   "cell_type": "code",
   "execution_count": 5,
   "metadata": {
    "collapsed": false
   },
   "outputs": [],
   "source": [
    "m1 = joblib.load('./mixtureModels/gmm_1_1024gaussian.pkl')\n",
    "m2 = joblib.load('./mixtureModels/gmm_2_1024gaussian.pkl')\n",
    "\n",
    "scores_dev  = np.array(m1.score(X_develop) - m2.score(X_develop))"
   ]
  },
  {
   "cell_type": "code",
   "execution_count": 8,
   "metadata": {
    "collapsed": false
   },
   "outputs": [
    {
     "data": {
      "image/png": "[encoded data removed]",
      "text/plain": [
       "<matplotlib.figure.Figure at 0x22c574e0>"
      ]
     },
     "metadata": {},
     "output_type": "display_data"
    }
   ],
   "source": [
    "fpr, tpr, threshold = roc_curve(y_develop, scores_dev)\n",
    "\n",
    "difference = 1-fpr\n",
    "plt.plot(tpr, fpr)\n",
    "plt.plot(tpr,difference)\n",
    "plt.show()"
   ]
  },
  {
   "cell_type": "markdown",
   "metadata": {},
   "source": [
    "# find optimal threshold\n",
    "\n"
   ]
  },
  {
   "cell_type": "code",
   "execution_count": 80,
   "metadata": {
    "collapsed": false
   },
   "outputs": [],
   "source": [
    "def Find_Optimal_Threshold(target, scores):\n",
    "\n",
    "    fpr, tpr, threshold = roc_curve(target, scores)\n",
    "    i = np.arange(len(tpr)) \n",
    "    roc = pd.DataFrame({'tf' : pd.Series(tpr-(1-fpr), index=i), 'threshold' : pd.Series(threshold, index=i)})\n",
    "    roc_t = roc.ix[(roc.tf).abs().argsort()[:1]]\n",
    "    return np.array(roc_t['threshold'])\n"
   ]
  },
  {
   "cell_type": "code",
   "execution_count": 81,
   "metadata": {
    "collapsed": false
   },
   "outputs": [
    {
     "name": "stdout",
     "output_type": "stream",
     "text": [
      "[-1.80457335]\n",
      "accuracy - prediction on development set 67.2431237353\n"
     ]
    }
   ],
   "source": [
    "# Compute optimal treshold and calc accuracy (development set)\n",
    "\n",
    "threshold_dev = Find_Optimal_Threshold(y_develop, scores_dev)\n",
    "print threshold_dev\n",
    "\n",
    "labels_dev = (scores_dev < threshold_dev).astype('int')\n",
    "    \n",
    "accuracy_dev = np.mean(labels_dev == y_develop) * 100\n",
    "print 'accuracy - prediction on development set', accuracy_dev"
   ]
  },
  {
   "cell_type": "code",
   "execution_count": 75,
   "metadata": {
    "collapsed": true
   },
   "outputs": [],
   "source": [
    "scores_test  = np.array(m1.score(X_test) - m2.score(X_test))"
   ]
  },
  {
   "cell_type": "code",
   "execution_count": 82,
   "metadata": {
    "collapsed": false
   },
   "outputs": [
    {
     "name": "stdout",
     "output_type": "stream",
     "text": [
      "accuracy - prediction on evaluation set 61.0974953982\n"
     ]
    }
   ],
   "source": [
    "labels_test = (scores_test < threshold_dev).astype('int')\n",
    "    \n",
    "accuracy_test = np.mean(labels_test == y_test) * 100\n",
    "print 'accuracy - prediction on evaluation set', accuracy_test"
   ]
  },
  {
   "cell_type": "code",
   "execution_count": 77,
   "metadata": {
    "collapsed": false
   },
   "outputs": [
    {
     "name": "stdout",
     "output_type": "stream",
     "text": [
      "accuracy - prediction on development set 77.3645357116\n"
     ]
    }
   ],
   "source": [
    "# zeros threshold\n",
    "\n",
    "labels_zeros_dev = (scores_dev < 0).astype('int')\n",
    "accuracy_zeros_dev = np.mean(labels_zeros_dev == y_develop) * 100\n",
    "print 'accuracy - prediction on development set', accuracy_zeros_dev"
   ]
  },
  {
   "cell_type": "code",
   "execution_count": 83,
   "metadata": {
    "collapsed": false
   },
   "outputs": [
    {
     "data": {
      "text/plain": [
       "array([[ 2352,  1145],\n",
       "       [16338, 33537]])"
      ]
     },
     "execution_count": 83,
     "metadata": {},
     "output_type": "execute_result"
    }
   ],
   "source": [
    "from sklearn.metrics import confusion_matrix\n",
    "\n",
    "##################\n",
    "#    TN     FP   #\n",
    "#    FN     TP   #\n",
    "##################\n",
    "\n",
    "confusion_matrix(y_develop, labels_dev)"
   ]
  },
  {
   "cell_type": "code",
   "execution_count": 84,
   "metadata": {
    "collapsed": false
   },
   "outputs": [
    {
     "data": {
      "text/plain": [
       "array([[ 1668,  1829],\n",
       "       [10252, 39623]])"
      ]
     },
     "execution_count": 84,
     "metadata": {},
     "output_type": "execute_result"
    }
   ],
   "source": [
    "confusion_matrix(y_develop, labels_zeros_dev)"
   ]
  },
  {
   "cell_type": "markdown",
   "metadata": {},
   "source": [
    "## ROC curve"
   ]
  },
  {
   "cell_type": "code",
   "execution_count": 52,
   "metadata": {
    "collapsed": false
   },
   "outputs": [],
   "source": [
    "def plotROC(true, predicted, ttl = None):\n",
    "    fpr, tpr, threshold = roc_curve(true, predicted, pos_label = 0)\n",
    "    roc_auc = auc(fpr, tpr)\n",
    "\n",
    "    \n",
    "    plt.figure()\n",
    "    lw = 2\n",
    "    plt.plot(fpr, tpr, color='darkorange',\n",
    "             lw=lw, label='ROC curve (area = %0.2f)' % roc_auc)\n",
    "    plt.plot([0, 1], [0, 1], color='navy', lw=lw, linestyle='--')\n",
    "    plt.xlim([0.0, 1.0])\n",
    "    plt.ylim([0.0, 1.05])\n",
    "    plt.xlabel('False Positive Rate')\n",
    "    plt.ylabel('True Positive Rate')\n",
    "    plt.title(ttl)\n",
    "    plt.legend(loc=\"lower right\")\n",
    "    plt.show()"
   ]
  },
  {
   "cell_type": "code",
   "execution_count": 55,
   "metadata": {
    "collapsed": false
   },
   "outputs": [
    {
     "data": {
      "image/png": "[encoded data removed]",
      "text/plain": [
       "<matplotlib.figure.Figure at 0x7ffbbe0>"
      ]
     },
     "metadata": {},
     "output_type": "display_data"
    },
    {
     "data": {
      "image/png": "[encoded data removed]",
      "text/plain": [
       "<matplotlib.figure.Figure at 0x76eb0b8>"
      ]
     },
     "metadata": {},
     "output_type": "display_data"
    }
   ],
   "source": [
    "plotROC(y_develop, scores_dev, \"scores_dev\")\n",
    "\n",
    "plotROC(y_test, scores_test, \"scores_test\")"
   ]
  },
  {
   "cell_type": "markdown",
   "metadata": {},
   "source": [
    "# make prediction with new threshold\n"
   ]
  },
  {
   "cell_type": "markdown",
   "metadata": {},
   "source": [
    "#  train ubm_models"
   ]
  },
  {
   "cell_type": "code",
   "execution_count": 13,
   "metadata": {
    "collapsed": false
   },
   "outputs": [],
   "source": [
    "gaussians = np.array([2,4,8,16,32,64,128,256,512,1024])\n",
    "\n",
    "for n_g in gaussians:\n",
    "    ubm =  GMM(n_components = n_g, covariance_type='diag',init_params='wmc', n_iter=20)\n",
    "    ubm.fit(X_train, y_train)\n",
    "    filename = './mixtureModels/ubm_'+str(n_g)+ 'gaussian.pkl'\n",
    "    joblib.dump(ubm, filename) "
   ]
  },
  {
   "cell_type": "markdown",
   "metadata": {},
   "source": [
    "## predictions for UBM"
   ]
  },
  {
   "cell_type": "code",
   "execution_count": 103,
   "metadata": {
    "collapsed": true
   },
   "outputs": [],
   "source": [
    "ubm_1 = joblib.load('./mixtureModels/ubm_1024gaussian.pkl')\n",
    "ubm_2 = joblib.load('./mixtureModels/ubm_1024gaussian.pkl')"
   ]
  },
  {
   "cell_type": "code",
   "execution_count": 104,
   "metadata": {
    "collapsed": false
   },
   "outputs": [],
   "source": [
    "ubm_1_adapt = computeUBM(ubm_1, mfcc_original_develop)"
   ]
  },
  {
   "cell_type": "code",
   "execution_count": 105,
   "metadata": {
    "collapsed": true
   },
   "outputs": [],
   "source": [
    "ubm_2_adapt = computeUBM(ubm_2, mfcc_spoof_develop)"
   ]
  },
  {
   "cell_type": "code",
   "execution_count": 106,
   "metadata": {
    "collapsed": false
   },
   "outputs": [],
   "source": [
    "ubm_scores_dev = np.array(ubm_1_adapt.score(X_develop)-  ubm_2_adapt.score(X_develop))"
   ]
  },
  {
   "cell_type": "code",
   "execution_count": 107,
   "metadata": {
    "collapsed": false
   },
   "outputs": [
    {
     "name": "stdout",
     "output_type": "stream",
     "text": [
      "accuracy - prediction on development set 68.9387693922\n"
     ]
    }
   ],
   "source": [
    "# Compute optimal tresholp and calc accuracy (development set)\n",
    "\n",
    "ubm_threshold = Find_Optimal_Threshold(y_develop, ubm_scores_dev)\n",
    "\n",
    "ubm_labels_dev = (ubm_scores_dev < ubm_threshold).astype('int')\n",
    "    \n",
    "ubm_accuracy_dev = np.mean(ubm_labels_dev == y_develop) * 100\n",
    "print 'accuracy - prediction on development set', ubm_accuracy_dev"
   ]
  },
  {
   "cell_type": "code",
   "execution_count": 108,
   "metadata": {
    "collapsed": false
   },
   "outputs": [],
   "source": [
    "ubm_scores_eva = np.array(ubm_1_adapt.score(X_test) -  ubm_2_adapt.score(X_test))"
   ]
  },
  {
   "cell_type": "code",
   "execution_count": 109,
   "metadata": {
    "collapsed": false
   },
   "outputs": [
    {
     "name": "stdout",
     "output_type": "stream",
     "text": [
      "accuracy - prediction on evaluation set 58.4786250543\n"
     ]
    }
   ],
   "source": [
    "ubm_labels_eva = (ubm_scores_eva < ubm_threshold).astype('int')\n",
    "    \n",
    "ubm_accuracy_eva = np.mean(ubm_labels_eva == y_test) * 100\n",
    "print 'accuracy - prediction on evaluation set', ubm_accuracy_eva"
   ]
  },
  {
   "cell_type": "code",
   "execution_count": 110,
   "metadata": {
    "collapsed": false
   },
   "outputs": [
    {
     "data": {
      "image/png": "[encoded data removed]",
      "text/plain": [
       "<matplotlib.figure.Figure at 0x7905fd0>"
      ]
     },
     "metadata": {},
     "output_type": "display_data"
    },
    {
     "data": {
      "image/png": "[encoded data removed]",
      "text/plain": [
       "<matplotlib.figure.Figure at 0x792a2e8>"
      ]
     },
     "metadata": {},
     "output_type": "display_data"
    }
   ],
   "source": [
    "plotROC(y_develop, ubm_scores_dev, \"scores_dev\")\n",
    "\n",
    "plotROC(y_test, ubm_scores_eva, \"scores_test\")"
   ]
  },
  {
   "cell_type": "code",
   "execution_count": 112,
   "metadata": {
    "collapsed": false
   },
   "outputs": [
    {
     "name": "stdout",
     "output_type": "stream",
     "text": [
      "accuracy - prediction on development set 95.1376393456\n"
     ]
    }
   ],
   "source": [
    "# zeros threshold\n",
    "\n",
    "ubm_labels_zeros = (ubm_scores_eva < 0).astype('int')\n",
    "ubm_accuracy_zeros = np.mean(ubm_labels_zeros == y_test) * 100\n",
    "print 'accuracy - prediction on development set', ubm_accuracy_zeros"
   ]
  }
 ],
 "metadata": {
  "anaconda-cloud": {},
  "kernelspec": {
   "display_name": "Python 2",
   "language": "python",
   "name": "python2"
  },
  "language_info": {
   "codemirror_mode": {
    "name": "ipython",
    "version": 2
   },
   "file_extension": ".py",
   "mimetype": "text/x-python",
   "name": "python",
   "nbconvert_exporter": "python",
   "pygments_lexer": "ipython2",
   "version": "2.7.11"
  }
 },
 "nbformat": 4,
 "nbformat_minor": 0
}
