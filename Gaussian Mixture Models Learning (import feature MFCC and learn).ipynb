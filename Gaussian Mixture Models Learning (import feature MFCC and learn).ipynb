{
 "cells": [
  {
   "cell_type": "code",
   "execution_count": 1,
   "metadata": {
    "collapsed": true
   },
   "outputs": [],
   "source": [
    "from features import mfcc\n",
    "import scipy.io.wavfile as wav\n",
    "import numpy as np\n",
    "import time \n",
    "import matplotlib.pyplot as plt\n",
    "from matplotlib.pyplot import specgram\n",
    "%matplotlib inline\n",
    "\n",
    "from __future__ import division\n",
    "from sklearn.cross_validation import StratifiedKFold\n",
    "from sklearn.externals.six.moves import xrange\n",
    "from sklearn.mixture import GMM\n",
    "from sklearn.metrics import accuracy_score, classification_report\n",
    "from scipy import interp\n",
    "from sklearn.metrics import roc_curve, auc\n",
    "from sklearn.metrics import confusion_matrix\n",
    "\n",
    "import os"
   ]
  },
  {
   "cell_type": "code",
   "execution_count": 2,
   "metadata": {
    "collapsed": true
   },
   "outputs": [],
   "source": [
    "mfcc_original_train = np.loadtxt('mfcc_original_train.txt')\n",
    "mfcc_original_train_permutation = np.random.permutation(mfcc_original_train)\n",
    "\n",
    "mfcc_spoof_train = np.loadtxt('mfcc_spoof_train.txt')\n",
    "mfcc_spoof_train_permutation = np.random.permutation(mfcc_spoof_train)\n",
    "\n",
    "mfcc_original_develop = np.loadtxt('mfcc_original_develop.txt')\n",
    "mfcc_original_develop_permutation = np.random.permutation(mfcc_original_develop)\n",
    "\n",
    "mfcc_spoof_develop = np.loadtxt('mfcc_spoof_develop.txt')\n",
    "mfcc_spoof_develop_permutation = np.random.permutation(mfcc_spoof_develop)\n",
    "\n",
    "mfcc_original_test = np.loadtxt('mfcc_original_test.txt')\n",
    "mfcc_original_test_permutation = np.random.permutation(mfcc_original_test)\n",
    "\n",
    "mfcc_spoof_test = np.loadtxt('mfcc_spoof_test.txt')\n",
    "mfcc_spoof_test_permutation = np.random.permutation(mfcc_spoof_test)"
   ]
  },
  {
   "cell_type": "markdown",
   "metadata": {},
   "source": [
    "# Train set"
   ]
  },
  {
   "cell_type": "code",
   "execution_count": 3,
   "metadata": {
    "collapsed": true
   },
   "outputs": [],
   "source": [
    "X_train = np.concatenate([mfcc_original_train_permutation, mfcc_spoof_train_permutation]) \n",
    "y_train = np.concatenate([np.zeros((mfcc_original_train_permutation.shape[0])), np.ones((mfcc_spoof_train_permutation.shape[0]))]).astype('int')"
   ]
  },
  {
   "cell_type": "markdown",
   "metadata": {},
   "source": [
    "# Development set "
   ]
  },
  {
   "cell_type": "code",
   "execution_count": 4,
   "metadata": {
    "collapsed": true
   },
   "outputs": [],
   "source": [
    "X_develop = np.concatenate([mfcc_original_develop_permutation, mfcc_spoof_develop_permutation]) \n",
    "y_develop = np.concatenate([np.zeros((mfcc_original_develop_permutation.shape[0])), np.ones((mfcc_spoof_develop_permutation.shape[0]))]).astype('int')\n"
   ]
  },
  {
   "cell_type": "markdown",
   "metadata": {},
   "source": [
    "# Test set"
   ]
  },
  {
   "cell_type": "code",
   "execution_count": 5,
   "metadata": {
    "collapsed": true
   },
   "outputs": [],
   "source": [
    "X_test = np.concatenate([mfcc_original_test_permutation, mfcc_spoof_test_permutation]) \n",
    "y_test = np.concatenate([np.zeros((mfcc_original_test_permutation.shape[0])), np.ones((mfcc_spoof_test_permutation.shape[0]))]).astype('int')\n"
   ]
  },
  {
   "cell_type": "markdown",
   "metadata": {},
   "source": [
    "# Learn"
   ]
  },
  {
   "cell_type": "code",
   "execution_count": null,
   "metadata": {
    "collapsed": false
   },
   "outputs": [],
   "source": [
    "n_g = 1024\n",
    "\n",
    "for covar_type in ['spherical', 'diag', 'tied', 'full']:\n",
    "    number_gaussian = []\n",
    "    acc = []\n",
    "\n",
    "    tic = time.time() #Время работы типа ковариации. Старт\n",
    "    confusion_matrixLog = []\n",
    "    \n",
    "    for i in range(1,n_g, 2):\n",
    "        timeGausStart = time.time()\n",
    "        \n",
    "        number_gaussian.append(i) #Число Ядер Гауса\n",
    "        \n",
    "        original_train_shape = mfcc_original_train_permutation.shape[0]\n",
    "        # Обучаем модель оригинальных дикторов на тренировочном наборе\n",
    "\n",
    "        g1 =  GMM(n_components = n_g, covariance_type=covar_type, init_params='wc', n_iter=20)\n",
    "        g1.fit(X_train[0:original_train_shape], y_train[0:original_train_shape])\n",
    "\n",
    "        # Обучаем модель голосовых подделок на тренировочном наборе\n",
    "        g2 =  GMM(n_components = n_g, covariance_type=covar_type, init_params='wc', n_iter=20)\n",
    "        g2.fit(X_train[original_train_shape:X_train.shape[0]], y_train[original_train_shape:X_train.shape[0]])\n",
    "        \n",
    "        # Дообучаем модели\n",
    "\n",
    "        original_develop_shape = mfcc_original_train_permutation.shape[0]\n",
    "        # Дообучаем модель оригинальных дикторов на develop наборе\n",
    "\n",
    "        g1.fit(X_develop[0:original_develop_shape], y_train[0:original_develop_shape])\n",
    "\n",
    "        # Дообучаем модель голосовых подделок на develop наборе\n",
    "        g2.fit(X_train[original_develop_shape:X_develop.shape[0]], y_train[original_develop_shape:X_develop.shape[0]])\n",
    "\n",
    "        \n",
    "\n",
    "        prediction  = np.array(g1.score(X_test) < g2.score(X_test)).astype('int')\n",
    "\n",
    "        accuracy = np.mean(prediction == y_test) * 100\n",
    "        acc.append(accuracy)\n",
    "        #print 'ng = ', n_g, 'accuracy = ', accuracy\n",
    "        cm = confusion_matrix(y_test, prediction)   \n",
    "\n",
    "\n",
    "        confusion_matrixLog.append(cm)\n",
    "        \n",
    "        #----Лог для confusion matrix ------\n",
    "        with open(r'F:\\Science\\Notebook\\01.10.16. Next_step\\Experiment\\ConfusionLog-'+covar_type+'.txt', 'a') as c:\n",
    "            c.write('\\n--------------------\\n')\n",
    "            text =  ('Covar_type: ' +  covar_type + ', number gaussian = ' ,  i)\n",
    "            c.write(str(text))\n",
    "            c.write('\\nCovar_matrix: \\n')\n",
    "            c.write(\" \".join(map(str, cm)))\n",
    "            \n",
    "        #----Конец -------------------\n",
    "        \n",
    "        #tr_vc = train_accuracy * (n_dictors_vc) / (n_dictors_vc + n_dictors)\n",
    "        #tr_or = train_accuracy * (n_dictors) / (n_dictors_vc + n_dictors)\n",
    "        \n",
    "        #-----Accuracy Log --------\n",
    "        with open(r'F:\\Science\\Notebook\\01.10.16. Next_step\\Experiment\\AccuracyLog-'+covar_type+'.txt', 'a') as al:\n",
    "            al.write('\\n--------------------\\n')\n",
    "            text =  ('Covar_type: ',  covar_type , ', number gaussian' , i)\n",
    "            al.write(str(text))\n",
    "            text2 = ( ' Train accuracy: %.1f' % accuracy)\n",
    "            al.write(str(text2))\n",
    " \n",
    "        timeGausEnd = time.time()\n",
    "        timeGausWork = timeGausEnd - timeGausStart\n",
    "        \n",
    "        #Лог для времени работы количества ядер\n",
    "        with open(r'F:\\Science\\Notebook\\01.10.16. Next_step\\Experiment\\LogCoreTime-'+covar_type+'.txt', 'a') as t:\n",
    "            text =  ('Covar_type: ',  covar_type , ', number gaussian' , i, 'time = ', timeGausWork)\n",
    "            t.write('\\n--------------------\\n')\n",
    "            t.write(str(text))\n",
    "    toc = time.time()# Окончание работы типа ковариации\n",
    "    time_covartype = toc -tic\n",
    "    \n",
    "    \n",
    "        \n",
    "    #------Лог для типа ковариации -----------\n",
    "    f = open (r'F:\\Science\\Notebook\\01.10.16. Next_step\\Experiment\\TimeLog-'+covar_type+'.txt', 'a')\n",
    "    text =  ('Covar_type: ',  covar_type , ', time = ', time_covartype, '\\n')\n",
    "    f.write('\\n--------------------\\n')\n",
    "    f.write(str(text))\n",
    "    #----------------------------------------\n",
    "  \n",
    "    plt.figure()\n",
    "    plt.title('Covar_type: ' + covar_type)\n",
    "    tr_a = plt.plot(number_gaussian,acc,color = 'b')\n",
    "\n",
    "    plt.xlabel('Gaussian Core')\n",
    "    plt.ylabel('Accuracy')\n",
    "    plt.grid(True)\n",
    "    plt.show()"
   ]
  }
 ],
 "metadata": {
  "kernelspec": {
   "display_name": "Python 2",
   "language": "python",
   "name": "python2"
  },
  "language_info": {
   "codemirror_mode": {
    "name": "ipython",
    "version": 2
   },
   "file_extension": ".py",
   "mimetype": "text/x-python",
   "name": "python",
   "nbconvert_exporter": "python",
   "pygments_lexer": "ipython2",
   "version": "2.7.11"
  }
 },
 "nbformat": 4,
 "nbformat_minor": 0
}
