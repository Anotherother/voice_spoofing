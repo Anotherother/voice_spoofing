{
 "cells": [
  {
   "cell_type": "code",
   "execution_count": 2,
   "metadata": {
    "collapsed": false
   },
   "outputs": [],
   "source": [
    "import librosa\n",
    "import scipy.io.wavfile as wav\n",
    "import pandas as pd\n",
    "import numpy as np\n",
    "from scipy.signal import hamming\n",
    "import h5py\n",
    "import os"
   ]
  },
  {
   "cell_type": "markdown",
   "metadata": {},
   "source": [
    "## MAKE FEATURE VECTOR REPRESENTATION"
   ]
  },
  {
   "cell_type": "code",
   "execution_count": 3,
   "metadata": {
    "collapsed": false
   },
   "outputs": [],
   "source": [
    "N_MFCC = 20\n",
    "OVERLAP = False\n",
    "MFCC_WIN_LENGTH = 512\n",
    "N_MELFILTERS = 40\n",
    "\n",
    "def calc_feature(audio, rate, win_length = MFCC_WIN_LENGTH, hop_length = None, n_fft = 512, window = hamming, n_mfcc = N_MFCC):\n",
    "    \"\"\"\n",
    "    In this function we calculate MFCC, delta, delta-deltas features\n",
    "    for signal representation\n",
    "    \n",
    "    Library \n",
    "        - for feature computing: Librosa\n",
    "    \n",
    "    \"\"\"\n",
    "    \n",
    "    if n_fft == None:\n",
    "        n_fft = win_length\n",
    "\n",
    "    if hop_length == None:\n",
    "        if OVERLAP:\n",
    "            hop_length = int(win_length/4)\n",
    "        else:\n",
    "            hop_length = win_length\n",
    "\n",
    "    # power spectrum        \n",
    "    D = np.abs(librosa.stft(audio, n_fft=n_fft, hop_length=hop_length))**2\n",
    "\n",
    "    # mel spectrogram\n",
    "    S = librosa.feature.melspectrogram(S = D, sr = rate, htk = True)\n",
    "\n",
    "    MFCC = librosa.feature.mfcc(S = librosa.logamplitude(S), n_mfcc = N_MFCC, n_mels = N_MELFILTERS)\n",
    "    #+ 1e-8\n",
    "    \n",
    "    # substract cepstral_mean\n",
    "    MFCC = MFCC[1:,:] #exclude 0th mcep\n",
    "    \n",
    "    MFCC_D = librosa.feature.delta(MFCC, order = 1)\n",
    "    MFCC_DD = librosa.feature.delta(MFCC,order = 2)\n",
    "\n",
    "    return MFCC, MFCC_D, MFCC_DD\n",
    "\n"
   ]
  },
  {
   "cell_type": "code",
   "execution_count": 4,
   "metadata": {
    "collapsed": false
   },
   "outputs": [
    {
     "name": "stdout",
     "output_type": "stream",
     "text": [
      "(57L, 127L)\n"
     ]
    }
   ],
   "source": [
    "#  test script\n",
    "filename = 'p228_028.wav'\n",
    "\n",
    "rate, audio = wav.read(filename)\n",
    "MFCC, MFCC_D, MFCC_DD = calc_feature(audio, rate)\n",
    "\n",
    "featurevector = np.vstack(calc_feature(audio, rate, n_mfcc = N_MFCC, win_length = MFCC_WIN_LENGTH))\n",
    "print(featurevector.shape)"
   ]
  },
  {
   "cell_type": "markdown",
   "metadata": {},
   "source": [
    "# DATABASE FEATURE EXTRACTION"
   ]
  },
  {
   "cell_type": "code",
   "execution_count": 6,
   "metadata": {
    "collapsed": false
   },
   "outputs": [
    {
     "name": "stdout",
     "output_type": "stream",
     "text": [
      "T2_1000002\n"
     ]
    }
   ],
   "source": [
    "directory = '../../Antispoofing Datasets/ASVSpoof2015/wav/'\n",
    "\n",
    "def compute(setName):\n",
    "  \n",
    "    if setName == 'train':\n",
    "        protocol = './protocol/cm_train.trn'\n",
    "    elif setName == 'develop':\n",
    "        protocol = './protocol/cm_develop.ndx'  \n",
    "    elif setName == 'evaluation':\n",
    "        protocol = './protocol/cm_evaluation.ndx'\n",
    "    else:\n",
    "        print 'Invalid argument'\n",
    "        \n",
    "    data = pd.read_csv(protocol, delimiter=' ', names=[\"dictor\", \"name\", \"algorithm\", \"sp_hu\"], dtype={\"name\": 'string'}) \n",
    "    \n",
    "    f = h5py.File(setName + '.h5', \"w\")\n",
    "\n",
    "    for j in range(len(data)):\n",
    "        filename = directory + data.iloc[j].dictor + '/' + data.iloc[j]['name'] + '.wav'\n",
    "        \n",
    "        path = '/' + data.iloc[j].sp_hu + '/' + data.iloc[j].algorithm + '/' + data.iloc[j]['name']\n",
    "        \n",
    "        rate, audio = wav.read(filename)\n",
    "        featurevector = np.vstack(calc_feature(audio, rate, n_mfcc = N_MFCC, win_length = MFCC_WIN_LENGTH))\n",
    "        dset = f.create_dataset(path, featurevector.shape, dtype='float64')\n",
    "        dset[...] = featurevector\n",
    "        \n",
    "compute('train')"
   ]
  },
  {
   "cell_type": "code",
   "execution_count": 13,
   "metadata": {
    "collapsed": false
   },
   "outputs": [
    {
     "name": "stdout",
     "output_type": "stream",
     "text": [
      "[[ 39.48759521  36.06444562  40.76127196 ...,  64.69276071  70.12437135\n",
      "   66.56866556]\n",
      " [ 28.1883011   32.55624761  33.00336663 ...,  19.81570828  30.59975461\n",
      "   38.63468956]\n",
      " [ 20.92265522  29.43736939  26.29395217 ...,  15.49158634  22.57388951\n",
      "   23.0439447 ]\n",
      " ..., \n",
      " [  0.17935919   0.15266997   0.12884873 ...,   0.52592193   0.788404\n",
      "    0.85030522]\n",
      " [  0.20233498   0.18162991   0.16750161 ...,  -0.08377266   0.20380387\n",
      "    0.30339294]\n",
      " [  0.27861496   0.24582167   0.22015505 ...,  -0.24370179  -0.58880316\n",
      "   -0.80495669]]\n"
     ]
    }
   ],
   "source": [
    "f = h5py.File('train.h5','r') \n",
    "data = f.get('/human/human/T2_1000001') \n",
    "data = np.array(data)\n",
    "print data"
   ]
  },
  {
   "cell_type": "code",
   "execution_count": null,
   "metadata": {
    "collapsed": true
   },
   "outputs": [],
   "source": []
  },
  {
   "cell_type": "code",
   "execution_count": null,
   "metadata": {
    "collapsed": true
   },
   "outputs": [],
   "source": []
  }
 ],
 "metadata": {
  "anaconda-cloud": {},
  "kernelspec": {
   "display_name": "Python 2",
   "language": "python",
   "name": "python2"
  },
  "language_info": {
   "codemirror_mode": {
    "name": "ipython",
    "version": 2
   },
   "file_extension": ".py",
   "mimetype": "text/x-python",
   "name": "python",
   "nbconvert_exporter": "python",
   "pygments_lexer": "ipython2",
   "version": "2.7.13"
  }
 },
 "nbformat": 4,
 "nbformat_minor": 1
}
