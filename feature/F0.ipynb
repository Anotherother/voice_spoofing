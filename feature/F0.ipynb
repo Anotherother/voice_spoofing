{
 "cells": [
  {
   "cell_type": "code",
   "execution_count": 1,
   "metadata": {
    "collapsed": false
   },
   "outputs": [],
   "source": [
    "import numpy as np\n",
    "import matplotlib.pyplot as plt\n",
    "import pandas as pd\n",
    "import pysptk\n",
    "import features as psf\n",
    "import scipy.io.wavfile as wav\n",
    "\n",
    "\n",
    "%matplotlib inline"
   ]
  },
  {
   "cell_type": "code",
   "execution_count": 2,
   "metadata": {
    "collapsed": true
   },
   "outputs": [],
   "source": [
    "directory = r'N://Science//Antispoofing Datasets//ASVSpoof2015//wav//'\n",
    "output_directory = r'N://Science//Antispoofing Research (ipython notebook)//gmm t-sne//mfcc_all//'"
   ]
  },
  {
   "cell_type": "code",
   "execution_count": 3,
   "metadata": {
    "collapsed": false
   },
   "outputs": [],
   "source": [
    "hop_length = 80\n",
    "\n",
    "def extractF0( dataframe, directory_in, directory_out):\n",
    "    f0_all = []\n",
    "    \n",
    "    for i in dataframe.index:\n",
    "\n",
    "        fileName = directory_in + dataframe.ix[i][0] + '\\\\' + dataframe.ix[i][1] + '.wav'\n",
    "        \n",
    "        rate, audio = wav.read(fileName)\n",
    "        f0 = pysptk.swipe(audio.astype(np.float64), fs=rate, hopsize=hop_length, min=60, max=240, otype=\"f0\")\n",
    "        f0_all.append(f0)\n",
    "    \n",
    "    return np.array(f0_all)"
   ]
  },
  {
   "cell_type": "code",
   "execution_count": 10,
   "metadata": {
    "collapsed": false
   },
   "outputs": [
    {
     "ename": "TypeError",
     "evalue": "Mismatch between array dtype ('object') and format specifier ('%.18e')",
     "output_type": "error",
     "traceback": [
      "\u001b[1;31m---------------------------------------------------------------------------\u001b[0m",
      "\u001b[1;31mTypeError\u001b[0m                                 Traceback (most recent call last)",
      "\u001b[1;32m<ipython-input-10-ff7c0342f1a0>\u001b[0m in \u001b[0;36m<module>\u001b[1;34m()\u001b[0m\n\u001b[0;32m     12\u001b[0m \u001b[1;32mfor\u001b[0m \u001b[0mi\u001b[0m \u001b[1;32min\u001b[0m \u001b[0mrange\u001b[0m\u001b[1;33m(\u001b[0m\u001b[0muniquelabels\u001b[0m\u001b[1;33m.\u001b[0m\u001b[0mshape\u001b[0m\u001b[1;33m[\u001b[0m\u001b[1;36m0\u001b[0m\u001b[1;33m]\u001b[0m\u001b[1;33m)\u001b[0m\u001b[1;33m:\u001b[0m\u001b[1;33m\u001b[0m\u001b[0m\n\u001b[0;32m     13\u001b[0m     \u001b[0mf0_output\u001b[0m \u001b[1;33m=\u001b[0m \u001b[0mextractF0\u001b[0m\u001b[1;33m(\u001b[0m\u001b[0mdataframe\u001b[0m\u001b[1;33m[\u001b[0m\u001b[0mdataframe\u001b[0m\u001b[1;33m.\u001b[0m\u001b[0malgorithm\u001b[0m \u001b[1;33m==\u001b[0m \u001b[0muniquelabels\u001b[0m\u001b[1;33m[\u001b[0m\u001b[0mi\u001b[0m\u001b[1;33m]\u001b[0m\u001b[1;33m]\u001b[0m\u001b[1;33m,\u001b[0m \u001b[0mdirectory\u001b[0m\u001b[1;33m,\u001b[0m \u001b[0moutput_directory\u001b[0m\u001b[1;33m)\u001b[0m\u001b[1;33m\u001b[0m\u001b[0m\n\u001b[1;32m---> 14\u001b[1;33m     \u001b[0mnp\u001b[0m\u001b[1;33m.\u001b[0m\u001b[0msavetxt\u001b[0m\u001b[1;33m(\u001b[0m\u001b[1;34m'./f0/f0_train_'\u001b[0m\u001b[1;33m+\u001b[0m \u001b[0mstr\u001b[0m\u001b[1;33m(\u001b[0m\u001b[0muniquelabels\u001b[0m\u001b[1;33m[\u001b[0m\u001b[0mi\u001b[0m\u001b[1;33m]\u001b[0m\u001b[1;33m)\u001b[0m \u001b[1;33m+\u001b[0m \u001b[1;34m'.txt'\u001b[0m\u001b[1;33m,\u001b[0m \u001b[0mf0_output\u001b[0m\u001b[1;33m)\u001b[0m\u001b[1;33m\u001b[0m\u001b[0m\n\u001b[0m",
      "\u001b[1;32mC:\\Anaconda2\\lib\\site-packages\\numpy\\lib\\npyio.pyc\u001b[0m in \u001b[0;36msavetxt\u001b[1;34m(fname, X, fmt, delimiter, newline, header, footer, comments)\u001b[0m\n\u001b[0;32m   1158\u001b[0m                     raise TypeError(\"Mismatch between array dtype ('%s') and \"\n\u001b[0;32m   1159\u001b[0m                                     \u001b[1;34m\"format specifier ('%s')\"\u001b[0m\u001b[1;33m\u001b[0m\u001b[0m\n\u001b[1;32m-> 1160\u001b[1;33m                                     % (str(X.dtype), format))\n\u001b[0m\u001b[0;32m   1161\u001b[0m         \u001b[1;32mif\u001b[0m \u001b[0mlen\u001b[0m\u001b[1;33m(\u001b[0m\u001b[0mfooter\u001b[0m\u001b[1;33m)\u001b[0m \u001b[1;33m>\u001b[0m \u001b[1;36m0\u001b[0m\u001b[1;33m:\u001b[0m\u001b[1;33m\u001b[0m\u001b[0m\n\u001b[0;32m   1162\u001b[0m             \u001b[0mfooter\u001b[0m \u001b[1;33m=\u001b[0m \u001b[0mfooter\u001b[0m\u001b[1;33m.\u001b[0m\u001b[0mreplace\u001b[0m\u001b[1;33m(\u001b[0m\u001b[1;34m'\\n'\u001b[0m\u001b[1;33m,\u001b[0m \u001b[1;34m'\\n'\u001b[0m \u001b[1;33m+\u001b[0m \u001b[0mcomments\u001b[0m\u001b[1;33m)\u001b[0m\u001b[1;33m\u001b[0m\u001b[0m\n",
      "\u001b[1;31mTypeError\u001b[0m: Mismatch between array dtype ('object') and format specifier ('%.18e')"
     ]
    }
   ],
   "source": [
    "# train data\n",
    "\n",
    "with open (\"./protocol/cm_train.trn\", \"r\") as myfile:\n",
    "    data=myfile.read().split('\\n')\n",
    "    \n",
    "for x in  range(len(data)): \n",
    "    data[x] =  data[x].split(' ')\n",
    "    \n",
    "dataframe = pd.DataFrame(data, columns=[\"dictor\", \"name\", \"algorithm\", \"sp_hu\"])\n",
    "uniquelabels = dataframe.algorithm.unique()\n",
    "\n",
    "for i in range(uniquelabels.shape[0]):\n",
    "    f0_output = extractF0(dataframe[dataframe.algorithm == uniquelabels[i]], directory, output_directory)\n",
    "    np.savetxt('./f0/f0_train_'+ str(uniquelabels[i]) + '.txt', f0_output)"
   ]
  },
  {
   "cell_type": "code",
   "execution_count": null,
   "metadata": {
    "collapsed": true
   },
   "outputs": [],
   "source": [
    "# dev data\n",
    "\n",
    "with open (\"./protocol/cm_develop.ndx\", \"r\") as myfile:\n",
    "    data=myfile.read().split('\\n')\n",
    "    \n",
    "for x in  range(len(data)): \n",
    "    data[x] =  data[x].split(' ')\n",
    "    \n",
    "dataframe = pd.DataFrame(data, columns=[\"dictor\", \"name\", \"algorithm\", \"sp_hu\"])\n",
    "uniquelabels = dataframe.algorithm.unique()\n",
    "\n",
    "for i in range(uniquelabels.shape[0]):\n",
    "    f0_output = extractF0(dataframe[dataframe.algorithm == uniquelabels[i]], directory, output_directory)\n",
    "    np.savetxt('./f0/f0_dev_'+ str(uniquelabels[i]) + '.txt', f0_output)"
   ]
  },
  {
   "cell_type": "code",
   "execution_count": null,
   "metadata": {
    "collapsed": true
   },
   "outputs": [],
   "source": [
    "# eva data\n",
    "\n",
    "with open (\"./protocol/cm_evaluation.ndx\", \"r\") as myfile:\n",
    "    data=myfile.read().split('\\n')\n",
    "    \n",
    "for x in  range(len(data)): \n",
    "    data[x] =  data[x].split(' ')\n",
    "    \n",
    "dataframe = pd.DataFrame(data, columns=[\"dictor\", \"name\", \"algorithm\", \"sp_hu\"])\n",
    "uniquelabels = dataframe.algorithm.unique()\n",
    "\n",
    "for i in range(uniquelabels.shape[0]):\n",
    "    f0_output = extractF0(dataframe[dataframe.algorithm == uniquelabels[i]], directory, output_directory)\n",
    "    np.savetxt('./f0/f0_eva_'+ str(uniquelabels[i]) + '.txt', f0_output)\n"
   ]
  }
 ],
 "metadata": {
  "kernelspec": {
   "display_name": "Python 2",
   "language": "python",
   "name": "python2"
  },
  "language_info": {
   "codemirror_mode": {
    "name": "ipython",
    "version": 2
   },
   "file_extension": ".py",
   "mimetype": "text/x-python",
   "name": "python",
   "nbconvert_exporter": "python",
   "pygments_lexer": "ipython2",
   "version": "2.7.11"
  }
 },
 "nbformat": 4,
 "nbformat_minor": 0
}
