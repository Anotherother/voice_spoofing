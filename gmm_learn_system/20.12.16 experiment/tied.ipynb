{
 "cells": [
  {
   "cell_type": "code",
   "execution_count": 1,
   "metadata": {
    "collapsed": false
   },
   "outputs": [],
   "source": [
    "import scipy.io.wavfile as wav\n",
    "import numpy as np\n",
    "import time \n",
    "import matplotlib.pyplot as plt\n",
    "from matplotlib.pyplot import specgram\n",
    "%matplotlib inline\n",
    "\n",
    "from __future__ import division\n",
    "from sklearn.cross_validation import StratifiedKFold\n",
    "from sklearn.externals.six.moves import xrange\n",
    "from sklearn.mixture import GMM\n",
    "from sklearn.metrics import accuracy_score, classification_report\n",
    "from scipy import interp\n",
    "from sklearn.metrics import roc_curve, auc\n",
    "from sklearn.metrics import confusion_matrix\n"
   ]
  },
  {
   "cell_type": "code",
   "execution_count": 2,
   "metadata": {
    "collapsed": false
   },
   "outputs": [],
   "source": [
    "mfcc_original_train = np.loadtxt('mfcc_original_train.txt')\n",
    "\n",
    "mfcc_spoof_train = np.loadtxt('mfcc_spoof_train.txt')\n",
    "\n",
    "mfcc_original_develop = np.loadtxt('mfcc_original_dev.txt')\n",
    "\n",
    "mfcc_spoof_develop = np.loadtxt('mfcc_spoof_dev.txt')\n",
    "\n",
    "mfcc_original_test = np.loadtxt('mfcc_original_eva.txt')\n",
    "\n",
    "mfcc_spoof_test = np.loadtxt('mfcc_spoof_eva.txt')"
   ]
  },
  {
   "cell_type": "markdown",
   "metadata": {},
   "source": [
    "# Train set"
   ]
  },
  {
   "cell_type": "code",
   "execution_count": 3,
   "metadata": {
    "collapsed": true
   },
   "outputs": [],
   "source": [
    "X_train = np.concatenate([mfcc_original_train, mfcc_spoof_train]) \n",
    "y_train = np.concatenate([np.zeros((mfcc_original_train.shape[0])), np.ones((mfcc_spoof_train.shape[0]))]).astype('int')"
   ]
  },
  {
   "cell_type": "markdown",
   "metadata": {},
   "source": [
    "# Development set "
   ]
  },
  {
   "cell_type": "code",
   "execution_count": 4,
   "metadata": {
    "collapsed": true
   },
   "outputs": [],
   "source": [
    "X_develop = np.concatenate([mfcc_original_develop, mfcc_spoof_develop]) \n",
    "y_develop = np.concatenate([np.zeros((mfcc_original_develop.shape[0])), np.ones((mfcc_spoof_develop.shape[0]))]).astype('int')\n"
   ]
  },
  {
   "cell_type": "markdown",
   "metadata": {},
   "source": [
    "# Test set"
   ]
  },
  {
   "cell_type": "code",
   "execution_count": 5,
   "metadata": {
    "collapsed": true
   },
   "outputs": [],
   "source": [
    "X_test = np.concatenate([mfcc_original_test, mfcc_spoof_test]) \n",
    "y_test = np.concatenate([np.zeros((mfcc_original_test.shape[0])), np.ones((mfcc_spoof_test.shape[0]))]).astype('int')\n"
   ]
  },
  {
   "cell_type": "markdown",
   "metadata": {},
   "source": [
    "# Learn"
   ]
  },
  {
   "cell_type": "code",
   "execution_count": 6,
   "metadata": {
    "collapsed": false
   },
   "outputs": [
    {
     "data": {
      "image/png": "[encoded data removed]",
      "text/plain": [
       "<matplotlib.figure.Figure at 0x6f18f98>"
      ]
     },
     "metadata": {},
     "output_type": "display_data"
    }
   ],
   "source": [
    "n_g = 1024\n",
    "\n",
    "for covar_type in ['tied']:\n",
    "    number_gaussian = []\n",
    "    acc = []\n",
    "\n",
    "    tic = time.time() #Время работы типа ковариации. Старт\n",
    "    confusion_matrixLog = []\n",
    "    \n",
    "    for i in range(1,n_g, 2):\n",
    "        timeGausStart = time.time()\n",
    "        \n",
    "        number_gaussian.append(i) #Число Ядер Гауса\n",
    "        \n",
    "        # Обучаем модель оригинальных дикторов на тренировочном наборе\n",
    "\n",
    "        g1 =  GMM(n_components = i, covariance_type=covar_type, init_params='wc', n_iter=20)\n",
    "        g1.fit(mfcc_original_train)\n",
    "\n",
    "        # Обучаем модель голосовых подделок на тренировочном наборе\n",
    "        g2 =  GMM(n_components = i, covariance_type=covar_type, init_params='wc', n_iter=20)\n",
    "        g2.fit(mfcc_spoof_train)\n",
    "        \n",
    "        # Дообучаем модели\n",
    "\n",
    "       \n",
    "        # Дообучаем модель оригинальных дикторов на develop наборе\n",
    "\n",
    "        #g1.fit(mfcc_original_develop)\n",
    "\n",
    "        # Дообучаем модель голосовых подделок на develop наборе\n",
    "        #g2.fit(mfcc_spoof_develop)\n",
    "\n",
    "        \n",
    "        prediction  = np.array(np.log(mfcc_original_train.shape[0])+ g1.score(X_test)  < np.log(mfcc_spoof_train.shape[0])+g2.score(X_test)).astype('int')\n",
    "\n",
    "        accuracy = np.mean(prediction == y_test) * 100\n",
    "        acc.append(accuracy)\n",
    "\n",
    "        cm = confusion_matrix(y_test, prediction)   \n",
    "\n",
    "        confusion_matrixLog.append(cm)\n",
    "        \n",
    "        #----Лог для confusion matrix ------\n",
    "        with open(r'D:\\Filin\\25.10.16. Next_step\\Experiment\\ConfusionLog-'+covar_type+'.txt', 'a') as c:\n",
    "            c.write('\\n--------------------\\n')\n",
    "            text =  ('Covar_type: ' +  covar_type + ', number gaussian = ' ,  i)\n",
    "            c.write(str(text))\n",
    "            c.write('\\nConf_matrix: \\n')\n",
    "            c.write(\" \".join(map(str, cm)))\n",
    "            \n",
    "        #----Конец -------------------\n",
    "        \n",
    "        #-----Accuracy Log --------\n",
    "        with open(r'D:\\Filin\\25.10.16. Next_step\\Experiment\\AccuracyLog-'+covar_type+'.txt', 'a') as al:\n",
    "            al.write('\\n--------------------\\n')\n",
    "            text =  ('Covar_type: ',  covar_type , ', number gaussian' , i)\n",
    "            al.write(str(text))\n",
    "            text2 = ( ' Train accuracy: %.1f' % accuracy)\n",
    "            al.write(str(text2))\n",
    " \n",
    "        timeGausEnd = time.time()\n",
    "        timeGausWork = timeGausEnd - timeGausStart\n",
    "        \n",
    "        #Лог для времени работы количества ядер\n",
    "        with open(r'D:\\Filin\\25.10.16. Next_step\\Experiment\\LogCoreTime-'+covar_type+'.txt', 'a') as t:\n",
    "            text =  ('Covar_type: ',  covar_type , ', number gaussian' , i, 'time = ', timeGausWork)\n",
    "            t.write('\\n--------------------\\n')\n",
    "            t.write(str(text))\n",
    "    toc = time.time()# Окончание работы типа ковариации\n",
    "    time_covartype = toc -tic\n",
    "    \n",
    "    \n",
    "        \n",
    "    #------Лог для типа ковариации -----------\n",
    "    f = open (r'D:\\Filin\\25.10.16. Next_step\\Experiment\\TimeLog-'+covar_type+'.txt', 'a')\n",
    "    text =  ('Covar_type: ',  covar_type , ', time = ', time_covartype, '\\n')\n",
    "    f.write('\\n--------------------\\n')\n",
    "    f.write(str(text))\n",
    "    #----------------------------------------\n",
    "  \n",
    "    plt.figure()\n",
    "    plt.title('Covar_type: ' + covar_type)\n",
    "    tr_a = plt.plot(number_gaussian,acc,color = 'b')\n",
    "\n",
    "    plt.xlabel('Gaussian Core')\n",
    "    plt.ylabel('Accuracy')\n",
    "    plt.grid(True)\n",
    "    plt.show()\n"
   ]
  },
  {
   "cell_type": "code",
   "execution_count": null,
   "metadata": {
    "collapsed": true
   },
   "outputs": [],
   "source": []
  }
 ],
 "metadata": {
  "anaconda-cloud": {},
  "kernelspec": {
   "display_name": "Python 2",
   "language": "python",
   "name": "python2"
  },
  "language_info": {
   "codemirror_mode": {
    "name": "ipython",
    "version": 2
   },
   "file_extension": ".py",
   "mimetype": "text/x-python",
   "name": "python",
   "nbconvert_exporter": "python",
   "pygments_lexer": "ipython2",
   "version": "2.7.11"
  }
 },
 "nbformat": 4,
 "nbformat_minor": 0
}
