{
 "cells": [
  {
   "cell_type": "code",
   "execution_count": null,
   "metadata": {
    "collapsed": true
   },
   "outputs": [],
   "source": [
    "from python_speech_features import mfcc\n",
    "import scipy.io.wavfile as wav\n",
    "import numpy as np\n",
    "\n",
    "import matplotlib.pyplot as plt\n",
    "from matplotlib.pyplot import specgram\n",
    "%matplotlib inline\n",
    "\n",
    "from __future__ import division\n",
    "from sklearn.cross_validation import StratifiedKFold\n",
    "from sklearn.externals.six.moves import xrange\n",
    "from sklearn.mixture import GMM\n",
    "from sklearn.metrics import accuracy_score, classification_report\n",
    "from scipy import interp\n",
    "from sklearn.metrics import roc_curve, auc\n",
    "from sklearn.metrics import confusion_matrix\n",
    "\n",
    "import os"
   ]
  },
  {
   "cell_type": "markdown",
   "metadata": {},
   "source": [
    "### Mfcc extraction. Samples"
   ]
  },
  {
   "cell_type": "code",
   "execution_count": 2,
   "metadata": {
    "collapsed": true
   },
   "outputs": [],
   "source": [
    "nc = 20 \n",
    "\n",
    "def generateMFCC(filename, fileOutput):\n",
    "    (rate,sig) = wav.read(filename)\n",
    "    mfcc_feat = mfcc(sig, rate, numcep = nc)\n",
    "    numOfRow = mfcc_feat.shape[0]\n",
    "    \n",
    "    sum = np.empty([0, mfcc_feat.shape[1]])\n",
    "    sum = np.sum(mfcc_feat, axis = 0)\n",
    "    sum /= numOfRow\n",
    "   \n",
    "    for item in sum:\n",
    "        fileOutput.write(str(item)+',')\n",
    "    \n",
    "    fileOutput.write('\\n')\n",
    "    return sum"
   ]
  },
  {
   "cell_type": "markdown",
   "metadata": {},
   "source": [
    "### Load labels of data"
   ]
  },
  {
   "cell_type": "code",
   "execution_count": 3,
   "metadata": {
    "collapsed": false
   },
   "outputs": [],
   "source": [
    "import pandas as pd\n",
    "\n",
    "dataframe_train = pd.read_csv('train_label.csv')\n",
    "dataframe_dev = pd.read_csv('dev_label.csv')\n",
    "dataframe_eva = pd.read_csv('eva_label.csv')"
   ]
  },
  {
   "cell_type": "code",
   "execution_count": 4,
   "metadata": {
    "collapsed": false
   },
   "outputs": [],
   "source": [
    "def model_dictor( dataframe, directory_in, directory_out, typeSignal):\n",
    "    mfcc = []\n",
    "\n",
    "    name = dataframe[dataframe.Sp_hu == typeSignal]\n",
    "\n",
    "    for i in name.index:\n",
    "\n",
    "        fileName = directory_in + name.ix[i][0] + '\\\\' + name.ix[i][1] + '.wav'\n",
    "\n",
    "        fileOut = open(directory_out + name.ix[i][1] + '.csv','w')\n",
    "        mfcc_res = generateMFCC(fileName, fileOut)\n",
    "        mfcc.append(mfcc_res)\n",
    "        fileOut.close()\n",
    "    \n",
    "    return np.array(mfcc)"
   ]
  },
  {
   "cell_type": "markdown",
   "metadata": {},
   "source": [
    "# MFCC of original speakers"
   ]
  },
  {
   "cell_type": "markdown",
   "metadata": {},
   "source": [
    "## Train set"
   ]
  },
  {
   "cell_type": "code",
   "execution_count": 6,
   "metadata": {
    "collapsed": false
   },
   "outputs": [],
   "source": [
    "directory = r'F:\\Science\\Antispoofing\\AntispoofingDataset\\ASVSpoof2015\\wav\\\\'\n",
    "output_directory = r'F:\\Science\\Notebook\\25.10.16. Next_step\\FeatureOriginal_Train\\\\'\n",
    "\n",
    "mfcc_original_train = model_dictor(dataframe_train, directory, output_directory, 'human')\n",
    "np.savetxt('mfcc_original_train.txt', mfcc_original_train)"
   ]
  },
  {
   "cell_type": "markdown",
   "metadata": {},
   "source": [
    "## Development set"
   ]
  },
  {
   "cell_type": "code",
   "execution_count": 8,
   "metadata": {
    "collapsed": true
   },
   "outputs": [],
   "source": [
    "\n",
    "output_directory = r'F:\\Science\\Notebook\\25.10.16. Next_step\\FeatureOriginal_Dev\\\\'\n",
    "\n",
    "mfcc_original_dev = model_dictor(dataframe_dev, directory, output_directory, 'human')\n",
    "np.savetxt('mfcc_original_dev.txt', mfcc_original_dev)"
   ]
  },
  {
   "cell_type": "markdown",
   "metadata": {},
   "source": [
    "## Evaluation set"
   ]
  },
  {
   "cell_type": "code",
   "execution_count": 10,
   "metadata": {
    "collapsed": true
   },
   "outputs": [],
   "source": [
    "output_directory = r'F:\\Science\\Notebook\\25.10.16. Next_step\\FeatureOriginal_Eva\\\\'\n",
    "\n",
    "mfcc_original_eva = model_dictor(dataframe_eva, directory, output_directory, 'human')\n",
    "\n",
    "np.savetxt('mfcc_original_eva.txt', mfcc_original_eva)"
   ]
  },
  {
   "cell_type": "markdown",
   "metadata": {},
   "source": [
    "# MFCC spoof samples"
   ]
  },
  {
   "cell_type": "code",
   "execution_count": 5,
   "metadata": {
    "collapsed": true
   },
   "outputs": [],
   "source": [
    "output_directory = r'F:\\Science\\Notebook\\25.10.16. Next_step\\FeatureSpoof_Train\\\\'\n",
    "\n",
    "mfcc_spoof_train = model_dictor(dataframe_train, directory, output_directory, 'spoof')\n",
    "np.savetxt('mfcc_spoof_train.txt', mfcc_spoof_train)"
   ]
  },
  {
   "cell_type": "code",
   "execution_count": null,
   "metadata": {
    "collapsed": true
   },
   "outputs": [],
   "source": [
    "output_directory = r'F:\\Science\\Notebook\\25.10.16. Next_step\\FeatureSpoof_Dev\\\\'\n",
    "\n",
    "mfcc_spoof_dev = model_dictor(dataframe_dev, directory, output_directory, 'spoof')\n",
    "np.savetxt('mfcc_spoof_dev.txt', mfcc_spoof_dev)"
   ]
  },
  {
   "cell_type": "code",
   "execution_count": null,
   "metadata": {
    "collapsed": true
   },
   "outputs": [],
   "source": [
    "output_directory = r'F:\\Science\\Notebook\\25.10.16. Next_step\\FeatureSpoof_Eva\\\\'\n",
    "\n",
    "mfcc_spoof_eva = model_dictor(dataframe_eva, directory, output_directory, 'spoof')\n",
    "np.savetxt('mfcc_spoof_eva.txt', mfcc_spoof_eva)"
   ]
  }
 ],
 "metadata": {
  "anaconda-cloud": {},
  "kernelspec": {
   "display_name": "Python 2",
   "language": "python",
   "name": "python2"
  },
  "language_info": {
   "codemirror_mode": {
    "name": "ipython",
    "version": 2
   },
   "file_extension": ".py",
   "mimetype": "text/x-python",
   "name": "python",
   "nbconvert_exporter": "python",
   "pygments_lexer": "ipython2",
   "version": "2.7.10"
  }
 },
 "nbformat": 4,
 "nbformat_minor": 0
}
