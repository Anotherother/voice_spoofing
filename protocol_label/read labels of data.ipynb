{
 "cells": [
  {
   "cell_type": "code",
   "execution_count": 1,
   "metadata": {
    "collapsed": false
   },
   "outputs": [],
   "source": [
    "import pandas as pd"
   ]
  },
  {
   "cell_type": "code",
   "execution_count": 2,
   "metadata": {
    "collapsed": true
   },
   "outputs": [],
   "source": [
    "# train\n",
    "\n",
    "with open (\"D:\\Science\\Antispoofing\\AntispoofingDataset\\ASVSpoof2015\\protocol\\CM_protocol\\\\cm_train.trn\", \"r\") as myfile:\n",
    "    data_train=myfile.read().split('\\n')\n",
    "    \n",
    "for x in  range(len(data_train)): \n",
    "    data_train[x] =  data_train[x].split(' ')\n",
    "    \n",
    "dataframe_train = pd.DataFrame(data_train, columns=[\"Dictor\", \"Name\", \"Type\", \"Sp-hu\"])"
   ]
  },
  {
   "cell_type": "code",
   "execution_count": 3,
   "metadata": {
    "collapsed": false
   },
   "outputs": [],
   "source": [
    "# development \n",
    "with open (\"D:\\Science\\Antispoofing\\AntispoofingDataset\\ASVSpoof2015\\protocol\\CM_protocol\\\\cm_develop.ndx\", \"r\") as myfile:\n",
    "    data_dev=myfile.read().split('\\n')\n",
    "    \n",
    "for x in  range(len(data_dev)): \n",
    "    data_dev[x] =  data_dev[x].split(' ')\n",
    "    \n",
    "dataframe_dev = pd.DataFrame(data_dev, columns=[\"Dictor\", \"Name\", \"Type\", \"Sp-hu\"]) \n",
    "#dataframe_dev[(dataframe_dev['Dictor' ] == 'D1') & (dataframe_dev['sp-hu'] == 'spoof' )]"
   ]
  },
  {
   "cell_type": "code",
   "execution_count": 4,
   "metadata": {
    "collapsed": true
   },
   "outputs": [],
   "source": [
    "# evaluation\n",
    "with open (\"D:\\Science\\Antispoofing\\AntispoofingDataset\\ASVSpoof2015\\protocol\\CM_protocol\\\\cm_evaluation.ndx\", \"r\") as myfile:\n",
    "    data_eva=myfile.read().split('\\n')\n",
    "    \n",
    "for x in  range(len(data_eva)): \n",
    "    data_eva[x] =  data_eva[x].split(' ')\n",
    "    \n",
    "dataframe_eva = pd.DataFrame(data_eva, columns=[\"Dictor\", \"Name\", \"Type\", \"Sp-hu\"])"
   ]
  },
  {
   "cell_type": "code",
   "execution_count": 6,
   "metadata": {
    "collapsed": true
   },
   "outputs": [],
   "source": [
    "dataframe_train.to_csv('train_label.csv', index = False)\n",
    "dataframe_dev.to_csv('dev_label.csv', index = False)\n",
    "dataframe_eva.to_csv('eva_label.csv', index = False)"
   ]
  }
 ],
 "metadata": {
  "kernelspec": {
   "display_name": "Python 2",
   "language": "python",
   "name": "python2"
  },
  "language_info": {
   "codemirror_mode": {
    "name": "ipython",
    "version": 2
   },
   "file_extension": ".py",
   "mimetype": "text/x-python",
   "name": "python",
   "nbconvert_exporter": "python",
   "pygments_lexer": "ipython2",
   "version": "2.7.10"
  }
 },
 "nbformat": 4,
 "nbformat_minor": 0
}
