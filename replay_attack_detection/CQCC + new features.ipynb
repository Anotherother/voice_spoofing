{
 "cells": [
  {
   "cell_type": "code",
   "execution_count": 28,
   "metadata": {
    "collapsed": true
   },
   "outputs": [],
   "source": [
    "import h5py\n",
    "import numpy as np\n",
    "import os"
   ]
  },
  {
   "cell_type": "code",
   "execution_count": 2,
   "metadata": {
    "collapsed": true
   },
   "outputs": [],
   "source": [
    "sigmaVectorOriginal =np.loadtxt('./features/sigmaOriginalTRAIN.txt' )\n",
    "snrOriginal =np.loadtxt('./features/snrOriginalTRAIN.txt' )\n",
    "exOriginal =np.loadtxt('./features/excessOriginalTRAIN.txt' )\n",
    "mfccOriginal =np.loadtxt('./features/mfccOriginalTRAIN.txt' )\n",
    "\n",
    "sigmaVectorSpoof =np.loadtxt('./features/sigmaSpoofTRAIN.txt' )\n",
    "snrSpoof =np.loadtxt('./features/snrSpoofTRAIN.txt' )\n",
    "exSpoof =np.loadtxt('./features/excessSpoofTRAIN.txt' )\n",
    "mfccSpoof =np.loadtxt('./features/mfccSpoofTRAIN.txt' )\n",
    "\n",
    "sigmaVectorOriginal_dev = np.loadtxt('./features/sigmaOriginalDEV.txt' )\n",
    "snrOriginal_dev = np.loadtxt('./features/snrOriginalDEV.txt' )\n",
    "exOriginal_dev = np.loadtxt('./features/excessOriginalDEV.txt' )\n",
    "mfccOriginal_dev = np.loadtxt('./features/mfccOriginalDEV.txt' )\n",
    "\n",
    "sigmaVectorSpoof_dev = np.loadtxt('./features/sigmaSpoofDEV.txt' )\n",
    "snrSpoof_dev = np.loadtxt('./features/snrSpoofDEV.txt' )\n",
    "exSpoof_dev = np.loadtxt('./features/excessSpoofDEV.txt' )\n",
    "mfccSpoof_dev = np.loadtxt('./features/mfccSpoofDEV.txt' )\n",
    "\n",
    "sigmaEva = np.loadtxt('./features/sigmaEva.txt')\n",
    "snrEva = np.loadtxt('./features/snrEva.txt')\n",
    "exEva = np.loadtxt('./features/excessEva.txt')\n",
    "mfccEva = np.loadtxt('./features/mfccEva.txt')\n",
    "\n",
    "y_test = np.loadtxt('./features/y_test.txt')\n",
    "\n",
    "fetureVecTrainOriginal = np.vstack([sigmaVectorOriginal,snrOriginal, exOriginal]).T\n",
    "fetureVecTrainSpoof = np.vstack([sigmaVectorSpoof, snrSpoof, exSpoof]).T\n",
    "\n",
    "fetureVecDevOriginal = np.vstack([sigmaVectorOriginal_dev,snrOriginal_dev, exOriginal_dev]).T\n",
    "fetureVecDevSpoof = np.vstack([sigmaVectorSpoof_dev, snrSpoof_dev, exSpoof_dev]).T\n",
    "\n",
    "featureVecTest = np.vstack([sigmaEva,snrEva,exEva]).T\n",
    "\n",
    "fvDev = np.concatenate([fetureVecDevOriginal,fetureVecDevSpoof])\n",
    "y_dev = np.concatenate([np.zeros(fetureVecDevOriginal.shape[0]), np.ones(fetureVecDevSpoof.shape[0])])"
   ]
  },
  {
   "cell_type": "code",
   "execution_count": 3,
   "metadata": {},
   "outputs": [
    {
     "name": "stdout",
     "output_type": "stream",
     "text": [
      "(1508L,)\n"
     ]
    }
   ],
   "source": [
    "f = h5py.File('../matlabCQCC/h5_with_labels/gFeatureCellTrain.h5','r') \n",
    "labels = f.get('./') \n",
    "labels =  np.array(labels)\n",
    "print (labels.shape)"
   ]
  },
  {
   "cell_type": "code",
   "execution_count": 4,
   "metadata": {},
   "outputs": [
    {
     "name": "stdout",
     "output_type": "stream",
     "text": [
      "(1508L,)\n",
      "(205L, 93L)\n"
     ]
    }
   ],
   "source": [
    "f = h5py.File('../matlabCQCC/h5_with_labels/gFeatureCellTrain.h5','r') \n",
    "labels = f.get('./') \n",
    "labels =  np.array(labels)\n",
    "print (labels.shape)\n",
    "\n",
    "array = np.array(f[labels[1]]) # array with features i-th sample\n",
    "\n",
    "featureForAdd = np.repeat([fetureVecTrainOriginal[0]], [array.shape[0]], axis = 0) # parsed data for add feature to featurevector\n",
    "result = np.hstack([array, featureForAdd]) # result array\n",
    "\n",
    "print result.shape"
   ]
  },
  {
   "cell_type": "code",
   "execution_count": 5,
   "metadata": {
    "collapsed": true
   },
   "outputs": [],
   "source": [
    "files = ['gFeatureCellTrain', 'sFeatureCellTrain', 'gFeatureCellDev', 'sFeatureCellDev','evaluationFeature']"
   ]
  },
  {
   "cell_type": "code",
   "execution_count": 6,
   "metadata": {},
   "outputs": [
    {
     "name": "stdout",
     "output_type": "stream",
     "text": [
      "1508\n"
     ]
    }
   ],
   "source": [
    "for j in files:\n",
    "    f = h5py.File('../matlabCQCC/h5_with_labels/' + j + '.h5','r') \n",
    "    labels = f.get('./') \n",
    "    labels =  np.array(labels)\n",
    "    print len(labels)\n",
    "\n",
    "    if j == 'gFeatureCellTrain':\n",
    "        a = fetureVecTrainOriginal\n",
    "    elif j == 'sFeatureCellTrain':\n",
    "        a = fetureVecTrainSpoof\n",
    "    elif j == 'gFeatureCellDev':\n",
    "        a = fetureVecDevOriginal\n",
    "    elif j == 'sFeatureCellDev':\n",
    "        a =fetureVecDevSpoof\n",
    "    elif j == 'evaluationFeature':\n",
    "        a = featureVecTest\n",
    "                        \n",
    "                \n",
    "    fileOut = h5py.File('./AddNewFeature/' + j + '.h5', \"w\")\n",
    "\n",
    "\n",
    "    for i in range(len(labels)):\n",
    "\n",
    "        array = np.array(f[labels[i]]) # array with features i-th sample\n",
    "        featureForAdd = np.repeat([a[i]], [array.shape[0]], axis = 0) # parsed data for add feature to featurevector\n",
    "        result = np.hstack([array, featureForAdd]) # result array\n",
    "        path = './set/' + labels[i]\n",
    "        dset = fileOut.create_dataset(path, result.shape, dtype='float64')\n",
    "        dset[...] = result\n"
   ]
  },
  {
   "cell_type": "code",
   "execution_count": 29,
   "metadata": {
    "collapsed": true
   },
   "outputs": [],
   "source": [
    "# get labels and make featurevec\n",
    "\n",
    "directory = './AddNewFeature/'\n",
    "\n",
    "def loadFeatureVec(feature): \n",
    "    \n",
    "    filename = os.path.join(directory, feature)\n",
    "    f = h5py.File(filename, 'r')\n",
    "    labels = np.array(f.get('./set/') )\n",
    "    \n",
    "    for i in range(len(labels)):\n",
    "        if i == 0:\n",
    "            data = np.array(f.get('./set/' + labels[i]))\n",
    "        else:\n",
    "            part = np.array(f.get('./set/' + labels[i]))\n",
    "            data = np.vstack([data, part])\n",
    "    return data"
   ]
  },
  {
   "cell_type": "code",
   "execution_count": 30,
   "metadata": {},
   "outputs": [],
   "source": [
    "gFeatureCellDev = loadFeatureVec('gFeatureCellDev.h5')\n",
    "sFeatureCellTrain = loadFeatureVec('sFeatureCellTrain.h5')\n",
    "\n",
    "gFeatureCellDev = loadFeatureVec('gFeatureCellDev.h5')\n",
    "sFeatureCellDev = loadFeatureVec('sFeatureCellDev.h5')\n",
    "\n",
    "evaluationFeature = loadFeatureVec('evaluationFeature.h5')"
   ]
  }
 ],
 "metadata": {
  "kernelspec": {
   "display_name": "Python 2",
   "language": "python",
   "name": "python2"
  },
  "language_info": {
   "codemirror_mode": {
    "name": "ipython",
    "version": 2
   },
   "file_extension": ".py",
   "mimetype": "text/x-python",
   "name": "python",
   "nbconvert_exporter": "python",
   "pygments_lexer": "ipython2",
   "version": "2.7.13"
  }
 },
 "nbformat": 4,
 "nbformat_minor": 1
}
