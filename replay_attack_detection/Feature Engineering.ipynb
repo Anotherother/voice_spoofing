{
 "cells": [
  {
   "cell_type": "code",
   "execution_count": 1,
   "metadata": {},
   "outputs": [],
   "source": [
    "import numpy as np\n",
    "import scipy\n",
    "from scipy import stats\n",
    "\n",
    "import pandas as pd\n",
    "from scipy.io import wavfile\n",
    "\n",
    "from mpl_toolkits.mplot3d import Axes3D\n",
    "import matplotlib.pyplot as plt\n",
    "\n",
    "import librosa\n",
    "from librosa import display\n",
    "\n",
    "from sklearn.mixture import GMM\n",
    "from sklearn.metrics import roc_curve, auc\n",
    "\n",
    "%matplotlib inline"
   ]
  },
  {
   "cell_type": "code",
   "execution_count": 2,
   "metadata": {},
   "outputs": [],
   "source": [
    "sigmaVectorOriginal =np.loadtxt('./features/sigmaOriginalTRAIN.txt' )\n",
    "snrOriginal =np.loadtxt('./features/snrOriginalTRAIN.txt' )\n",
    "exOriginal =np.loadtxt('./features/excessOriginalTRAIN.txt' )\n",
    "mfccOriginal =np.loadtxt('./features/mfccOriginalTRAIN.txt' )\n",
    "\n",
    "sigmaVectorSpoof =np.loadtxt('./features/sigmaSpoofTRAIN.txt' )\n",
    "snrSpoof =np.loadtxt('./features/snrSpoofTRAIN.txt' )\n",
    "exSpoof =np.loadtxt('./features/excessSpoofTRAIN.txt' )\n",
    "mfccSpoof =np.loadtxt('./features/mfccSpoofTRAIN.txt' )\n",
    "\n",
    "sigmaVectorOriginal_dev = np.loadtxt('./features/sigmaOriginalDEV.txt' )\n",
    "snrOriginal_dev = np.loadtxt('./features/snrOriginalDEV.txt' )\n",
    "exOriginal_dev = np.loadtxt('./features/excessOriginalDEV.txt' )\n",
    "mfccOriginal_dev = np.loadtxt('./features/mfccOriginalDEV.txt' )\n",
    "\n",
    "sigmaVectorSpoof_dev = np.loadtxt('./features/sigmaSpoofDEV.txt' )\n",
    "snrSpoof_dev = np.loadtxt('./features/snrSpoofDEV.txt' )\n",
    "exSpoof_dev = np.loadtxt('./features/excessSpoofDEV.txt' )\n",
    "mfccSpoof_dev = np.loadtxt('./features/mfccSpoofDEV.txt' )\n",
    "\n",
    "sigmaEva = np.loadtxt('./features/sigmaEva.txt')\n",
    "snrEva = np.loadtxt('./features/snrEva.txt')\n",
    "exEva = np.loadtxt('./features/excessEva.txt')\n",
    "mfccEva = np.loadtxt('./features/mfccEva.txt')\n",
    "\n",
    "y_test = np.loadtxt('./features/y_test.txt')"
   ]
  },
  {
   "cell_type": "code",
   "execution_count": 8,
   "metadata": {},
   "outputs": [],
   "source": [
    "# FEATURE VECTOR\n",
    "\n",
    "fetureVecTrainOriginal = np.vstack([sigmaVectorOriginal,snrOriginal, exOriginal]).T\n",
    "fetureVecTrainSpoof = np.vstack([sigmaVectorSpoof, snrSpoof, exSpoof]).T\n",
    "\n",
    "fetureVecDevOriginal = np.vstack([sigmaVectorOriginal_dev,snrOriginal_dev, exOriginal_dev]).T\n",
    "fetureVecDevSpoof = np.vstack([sigmaVectorSpoof_dev, snrSpoof_dev, exSpoof_dev]).T\n",
    "\n",
    "featureVecTest = np.vstack([sigmaEva,snrEva,exEva]).T\n",
    "\n",
    "fvDev = np.concatenate([fetureVecDevOriginal,fetureVecDevSpoof])\n",
    "y_dev = np.concatenate([np.zeros(fetureVecDevOriginal.shape[0]), np.ones(fetureVecDevSpoof.shape[0])])"
   ]
  },
  {
   "cell_type": "code",
   "execution_count": 4,
   "metadata": {},
   "outputs": [],
   "source": [
    "def GMMLearn(X_train_original, X_train_spoof,X_test, y_test):\n",
    "    for n_g in [5]:\n",
    "\n",
    "        g1m =  GMM(n_components = n_g, covariance_type='diag',init_params='wmc', n_iter=30)\n",
    "        g1m.fit(X_train_original)\n",
    "\n",
    "        g2m =  GMM(n_components = n_g, covariance_type='diag',init_params='wmc', n_iter=30)\n",
    "        g2m.fit(X_train_spoof)\n",
    "        scores = g1m.score(X_test)  - g2m.score(X_test)\n",
    "        prediction  = np.array( scores < 0).astype('int')\n",
    "\n",
    "        accuracy = np.mean(prediction == y_test) * 100\n",
    "        \n",
    "        print (accuracy)\n",
    "        \n",
    "        return (scores)\n"
   ]
  },
  {
   "cell_type": "code",
   "execution_count": 15,
   "metadata": {},
   "outputs": [
    {
     "name": "stdout",
     "output_type": "stream",
     "text": [
      "45.8214339396\n"
     ]
    }
   ],
   "source": [
    "sc = GMMLearn(fetureVecTrainOriginal, fetureVecTrainSpoof, featureVecTest, y_test)"
   ]
  },
  {
   "cell_type": "code",
   "execution_count": 25,
   "metadata": {
    "collapsed": true
   },
   "outputs": [],
   "source": [
    "def plotROC(true, predicted, ttl = None):\n",
    "    fpr, tpr, threshold = roc_curve(true, predicted, pos_label = 1)\n",
    "    roc_auc = auc(fpr, tpr)\n",
    "\n",
    "    \n",
    "    plt.figure()\n",
    "    lw = 2\n",
    "    plt.plot(fpr, tpr, color='darkorange',\n",
    "             lw=lw, label='ROC curve (area = %0.2f)' % roc_auc)\n",
    "    plt.plot([0, 1], [0, 1], color='navy', lw=lw, linestyle='--')\n",
    "    plt.xlim([0.0, 1.0])\n",
    "    plt.ylim([0.0, 1.05])\n",
    "    plt.xlabel('False Positive Rate')\n",
    "    plt.ylabel('True Positive Rate')\n",
    "    plt.title(ttl)\n",
    "    plt.legend(loc=\"lower right\")\n",
    "    plt.show()"
   ]
  },
  {
   "cell_type": "code",
   "execution_count": 26,
   "metadata": {},
   "outputs": [
    {
     "data": {
      "image/png": "[encoded data removed]",
      "text/plain": [
       "<matplotlib.figure.Figure at 0xad610b8>"
      ]
     },
     "metadata": {},
     "output_type": "display_data"
    }
   ],
   "source": [
    "plotROC(y_test, sc, \"scores\")"
   ]
  },
  {
   "cell_type": "code",
   "execution_count": 23,
   "metadata": {},
   "outputs": [
    {
     "name": "stdout",
     "output_type": "stream",
     "text": [
      "47.2869382234\n",
      "accuracy - prediction on development set. adapted on 1 part train set 13.7832556741\n"
     ]
    }
   ],
   "source": [
    "n_g = 5\n",
    "g1m =  GMM(n_components = n_g, covariance_type='diag',init_params='wmc', n_iter=30)\n",
    "g1m.fit(fetureVecTrainOriginal)\n",
    "\n",
    "g2m =  GMM(n_components = n_g, covariance_type='diag',init_params='wmc', n_iter=30)\n",
    "g2m.fit(fetureVecTrainSpoof)\n",
    "\n",
    "scores = g1m.score(featureVecTest)  - g2m.score(featureVecTest)\n",
    "prediction  = np.array( scores < 0).astype('int')\n",
    "\n",
    "accuracy = np.mean(prediction == y_test) * 100\n",
    "\n",
    "print accuracy\n",
    "\n",
    "g1_adapt = computeUBM(g1m, fetureVecDevOriginal)\n",
    "g2_adapt = computeUBM(g2m, fetureVecDevSpoof)\n",
    "\n",
    "scores = g1m.score(featureVecTest)  - g2m.score(featureVecTest)\n",
    "prediction  = np.array( scores < 0).astype('int')\n",
    "\n",
    "accuracy = np.mean(prediction == y_test) * 100\n",
    "print 'accuracy - prediction on development set. adapted on 1 part train set', accuracy"
   ]
  },
  {
   "cell_type": "code",
   "execution_count": 29,
   "metadata": {},
   "outputs": [
    {
     "name": "stdout",
     "output_type": "stream",
     "text": [
      "Counter({0.0: 12008, 1.0: 1298})\n"
     ]
    }
   ],
   "source": [
    "from collections import Counter\n",
    "\n",
    "c = Counter(y_test)\n",
    "\n",
    "print c"
   ]
  }
 ],
 "metadata": {
  "anaconda-cloud": {},
  "kernelspec": {
   "display_name": "Python 2",
   "language": "python",
   "name": "python2"
  },
  "language_info": {
   "codemirror_mode": {
    "name": "ipython",
    "version": 2
   },
   "file_extension": ".py",
   "mimetype": "text/x-python",
   "name": "python",
   "nbconvert_exporter": "python",
   "pygments_lexer": "ipython2",
   "version": "2.7.13"
  }
 },
 "nbformat": 4,
 "nbformat_minor": 1
}
